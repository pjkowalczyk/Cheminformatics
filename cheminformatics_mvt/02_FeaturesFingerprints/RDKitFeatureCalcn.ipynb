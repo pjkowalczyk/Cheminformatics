{
 "cells": [
  {
   "cell_type": "code",
   "execution_count": 1,
   "metadata": {
    "slideshow": {
     "slide_type": "skip"
    }
   },
   "outputs": [
    {
     "name": "stdout",
     "output_type": "stream",
     "text": [
      "3.7.4\n"
     ]
    }
   ],
   "source": [
    "import platform\n",
    "print(platform.python_version())"
   ]
  },
  {
   "cell_type": "code",
   "execution_count": 2,
   "metadata": {},
   "outputs": [
    {
     "data": {
      "text/plain": [
       "'C:\\\\Users\\\\us16120\\\\Projects\\\\cheminformatics_mvt\\\\02_FeaturesFingerprints'"
      ]
     },
     "execution_count": 2,
     "metadata": {},
     "output_type": "execute_result"
    }
   ],
   "source": [
    "import os\n",
    "os.getcwd()"
   ]
  },
  {
   "cell_type": "code",
   "execution_count": 3,
   "metadata": {
    "slideshow": {
     "slide_type": "skip"
    }
   },
   "outputs": [],
   "source": [
    "import warnings\n",
    "warnings.filterwarnings(action = 'once')"
   ]
  },
  {
   "cell_type": "markdown",
   "metadata": {
    "slideshow": {
     "slide_type": "skip"
    }
   },
   "source": [
    "### Instantiate environment"
   ]
  },
  {
   "cell_type": "code",
   "execution_count": 4,
   "metadata": {
    "slideshow": {
     "slide_type": "slide"
    }
   },
   "outputs": [
    {
     "name": "stderr",
     "output_type": "stream",
     "text": [
      "RDKit WARNING: [11:45:06] Enabling RDKit 2019.09.3 jupyter extensions\n"
     ]
    }
   ],
   "source": [
    "# import dataiku\n",
    "# from dataiku import pandasutils as pdu\n",
    "\n",
    "import pandas as pd\n",
    "import numpy as np\n",
    "import os\n",
    "from rdkit import Chem\n",
    "from rdkit.Chem import PandasTools\n",
    "from rdkit.Chem import Descriptors\n",
    "from rdkit.ML.Descriptors import MoleculeDescriptors\n",
    "import sklearn\n",
    "from sklearn import preprocessing\n",
    "from sklearn.preprocessing import StandardScaler\n",
    "from sklearn.feature_selection import VarianceThreshold\n",
    "from sklearn.model_selection import train_test_split\n",
    "from sklearn.model_selection import GridSearchCV\n",
    "from sklearn.neighbors import KNeighborsRegressor\n",
    "from sklearn.metrics import mean_squared_error\n",
    "from sklearn.ensemble import RandomForestRegressor\n",
    "import matplotlib.pyplot as plt \n",
    "import math"
   ]
  },
  {
   "cell_type": "markdown",
   "metadata": {
    "slideshow": {
     "slide_type": "notes"
    }
   },
   "source": [
    "### Read data"
   ]
  },
  {
   "cell_type": "code",
   "execution_count": 5,
   "metadata": {
    "slideshow": {
     "slide_type": "slide"
    }
   },
   "outputs": [],
   "source": [
    "cheng_df = pd.read_csv(\"..\\\\data\\\\ChengData_acquire.csv\")"
   ]
  },
  {
   "cell_type": "code",
   "execution_count": 6,
   "metadata": {
    "slideshow": {
     "slide_type": "subslide"
    }
   },
   "outputs": [
    {
     "data": {
      "text/html": [
       "<div>\n",
       "<style scoped>\n",
       "    .dataframe tbody tr th:only-of-type {\n",
       "        vertical-align: middle;\n",
       "    }\n",
       "\n",
       "    .dataframe tbody tr th {\n",
       "        vertical-align: top;\n",
       "    }\n",
       "\n",
       "    .dataframe thead th {\n",
       "        text-align: right;\n",
       "    }\n",
       "</style>\n",
       "<table border=\"1\" class=\"dataframe\">\n",
       "  <thead>\n",
       "    <tr style=\"text-align: right;\">\n",
       "      <th></th>\n",
       "      <th>Unnamed: 0</th>\n",
       "      <th>CASRN</th>\n",
       "      <th>SMILES</th>\n",
       "      <th>EndPt</th>\n",
       "      <th>Source</th>\n",
       "    </tr>\n",
       "  </thead>\n",
       "  <tbody>\n",
       "    <tr>\n",
       "      <td>1477</td>\n",
       "      <td>1478</td>\n",
       "      <td>1689-99-2</td>\n",
       "      <td>CCCCCCCC(=O)Oc1c(Br)cc(cc1Br)C#N</td>\n",
       "      <td>RB</td>\n",
       "      <td>Cheng</td>\n",
       "    </tr>\n",
       "    <tr>\n",
       "      <td>562</td>\n",
       "      <td>563</td>\n",
       "      <td>2439-01-2</td>\n",
       "      <td>Cc1ccc2nc3SC(=O)Sc3nc2c1</td>\n",
       "      <td>NRB</td>\n",
       "      <td>Cheng</td>\n",
       "    </tr>\n",
       "    <tr>\n",
       "      <td>1243</td>\n",
       "      <td>1244</td>\n",
       "      <td>618-36-0</td>\n",
       "      <td>CC(=O)NCc1ccccc1</td>\n",
       "      <td>NRB</td>\n",
       "      <td>Cheng</td>\n",
       "    </tr>\n",
       "    <tr>\n",
       "      <td>585</td>\n",
       "      <td>586</td>\n",
       "      <td>544-01-4</td>\n",
       "      <td>CC(C)CCOCCC(C)C</td>\n",
       "      <td>NRB</td>\n",
       "      <td>Cheng</td>\n",
       "    </tr>\n",
       "    <tr>\n",
       "      <td>588</td>\n",
       "      <td>589</td>\n",
       "      <td>3194-55-6</td>\n",
       "      <td>BrC1CCC(Br)C(Br)CCC(Br)C(Br)CCC1Br</td>\n",
       "      <td>NRB</td>\n",
       "      <td>Cheng</td>\n",
       "    </tr>\n",
       "  </tbody>\n",
       "</table>\n",
       "</div>"
      ],
      "text/plain": [
       "      Unnamed: 0      CASRN                              SMILES EndPt Source\n",
       "1477        1478  1689-99-2    CCCCCCCC(=O)Oc1c(Br)cc(cc1Br)C#N    RB  Cheng\n",
       "562          563  2439-01-2            Cc1ccc2nc3SC(=O)Sc3nc2c1   NRB  Cheng\n",
       "1243        1244   618-36-0                    CC(=O)NCc1ccccc1   NRB  Cheng\n",
       "585          586   544-01-4                     CC(C)CCOCCC(C)C   NRB  Cheng\n",
       "588          589  3194-55-6  BrC1CCC(Br)C(Br)CCC(Br)C(Br)CCC1Br   NRB  Cheng"
      ]
     },
     "execution_count": 6,
     "metadata": {},
     "output_type": "execute_result"
    }
   ],
   "source": [
    "cheng_df.sample(5).head()"
   ]
  },
  {
   "cell_type": "markdown",
   "metadata": {
    "slideshow": {
     "slide_type": "notes"
    }
   },
   "source": [
    "### Calculate Features"
   ]
  },
  {
   "cell_type": "code",
   "execution_count": 8,
   "metadata": {
    "slideshow": {
     "slide_type": "slide"
    }
   },
   "outputs": [],
   "source": [
    "nms = [x[0] for x in Descriptors._descList]\n",
    "calc = MoleculeDescriptors.MolecularDescriptorCalculator(nms)\n",
    "for i in range(len(cheng_df)):\n",
    "    descrs = calc.CalcDescriptors(Chem.MolFromSmiles(cheng_df.loc[i, 'SMILES']))\n",
    "    for x in range(len(descrs)):\n",
    "        cheng_df.at[i, str(nms[x])] = descrs[x]\n",
    "cheng_df = cheng_df.dropna()"
   ]
  },
  {
   "cell_type": "code",
   "execution_count": 9,
   "metadata": {
    "slideshow": {
     "slide_type": "subslide"
    }
   },
   "outputs": [
    {
     "data": {
      "text/plain": [
       "(1603, 205)"
      ]
     },
     "execution_count": 9,
     "metadata": {},
     "output_type": "execute_result"
    }
   ],
   "source": [
    "cheng_df.shape"
   ]
  },
  {
   "cell_type": "code",
   "execution_count": 10,
   "metadata": {},
   "outputs": [
    {
     "data": {
      "text/html": [
       "<div>\n",
       "<style scoped>\n",
       "    .dataframe tbody tr th:only-of-type {\n",
       "        vertical-align: middle;\n",
       "    }\n",
       "\n",
       "    .dataframe tbody tr th {\n",
       "        vertical-align: top;\n",
       "    }\n",
       "\n",
       "    .dataframe thead th {\n",
       "        text-align: right;\n",
       "    }\n",
       "</style>\n",
       "<table border=\"1\" class=\"dataframe\">\n",
       "  <thead>\n",
       "    <tr style=\"text-align: right;\">\n",
       "      <th></th>\n",
       "      <th>Unnamed: 0</th>\n",
       "      <th>CASRN</th>\n",
       "      <th>SMILES</th>\n",
       "      <th>EndPt</th>\n",
       "      <th>Source</th>\n",
       "      <th>MaxEStateIndex</th>\n",
       "      <th>MinEStateIndex</th>\n",
       "      <th>MaxAbsEStateIndex</th>\n",
       "      <th>MinAbsEStateIndex</th>\n",
       "      <th>qed</th>\n",
       "      <th>...</th>\n",
       "      <th>fr_sulfide</th>\n",
       "      <th>fr_sulfonamd</th>\n",
       "      <th>fr_sulfone</th>\n",
       "      <th>fr_term_acetylene</th>\n",
       "      <th>fr_tetrazole</th>\n",
       "      <th>fr_thiazole</th>\n",
       "      <th>fr_thiocyan</th>\n",
       "      <th>fr_thiophene</th>\n",
       "      <th>fr_unbrch_alkane</th>\n",
       "      <th>fr_urea</th>\n",
       "    </tr>\n",
       "  </thead>\n",
       "  <tbody>\n",
       "    <tr>\n",
       "      <td>245</td>\n",
       "      <td>246</td>\n",
       "      <td>64-67-5</td>\n",
       "      <td>CCOS(=O)(=O)OCC</td>\n",
       "      <td>RB</td>\n",
       "      <td>Cheng</td>\n",
       "      <td>10.386111</td>\n",
       "      <td>-3.681713</td>\n",
       "      <td>10.386111</td>\n",
       "      <td>0.113426</td>\n",
       "      <td>0.584209</td>\n",
       "      <td>...</td>\n",
       "      <td>0.0</td>\n",
       "      <td>0.0</td>\n",
       "      <td>0.0</td>\n",
       "      <td>0.0</td>\n",
       "      <td>0.0</td>\n",
       "      <td>0.0</td>\n",
       "      <td>0.0</td>\n",
       "      <td>0.0</td>\n",
       "      <td>0.0</td>\n",
       "      <td>0.0</td>\n",
       "    </tr>\n",
       "    <tr>\n",
       "      <td>1329</td>\n",
       "      <td>1330</td>\n",
       "      <td>2549-51-1</td>\n",
       "      <td>ClCC(=O)OC=C</td>\n",
       "      <td>RB</td>\n",
       "      <td>Cheng</td>\n",
       "      <td>9.986389</td>\n",
       "      <td>-0.475309</td>\n",
       "      <td>9.986389</td>\n",
       "      <td>0.119028</td>\n",
       "      <td>0.307700</td>\n",
       "      <td>...</td>\n",
       "      <td>0.0</td>\n",
       "      <td>0.0</td>\n",
       "      <td>0.0</td>\n",
       "      <td>0.0</td>\n",
       "      <td>0.0</td>\n",
       "      <td>0.0</td>\n",
       "      <td>0.0</td>\n",
       "      <td>0.0</td>\n",
       "      <td>0.0</td>\n",
       "      <td>0.0</td>\n",
       "    </tr>\n",
       "    <tr>\n",
       "      <td>1484</td>\n",
       "      <td>1485</td>\n",
       "      <td>2051-62-9</td>\n",
       "      <td>Clc1ccc(cc1)c2ccccc2</td>\n",
       "      <td>RB</td>\n",
       "      <td>Cheng</td>\n",
       "      <td>5.799129</td>\n",
       "      <td>0.777483</td>\n",
       "      <td>5.799129</td>\n",
       "      <td>0.777483</td>\n",
       "      <td>0.634617</td>\n",
       "      <td>...</td>\n",
       "      <td>0.0</td>\n",
       "      <td>0.0</td>\n",
       "      <td>0.0</td>\n",
       "      <td>0.0</td>\n",
       "      <td>0.0</td>\n",
       "      <td>0.0</td>\n",
       "      <td>0.0</td>\n",
       "      <td>0.0</td>\n",
       "      <td>0.0</td>\n",
       "      <td>0.0</td>\n",
       "    </tr>\n",
       "    <tr>\n",
       "      <td>1435</td>\n",
       "      <td>1436</td>\n",
       "      <td>2216-51-5</td>\n",
       "      <td>CC(C)[C@@H]1CC[C@@H](C)C[C@H]1O</td>\n",
       "      <td>NRB</td>\n",
       "      <td>Cheng</td>\n",
       "      <td>9.709769</td>\n",
       "      <td>-0.028935</td>\n",
       "      <td>9.709769</td>\n",
       "      <td>0.028935</td>\n",
       "      <td>0.617949</td>\n",
       "      <td>...</td>\n",
       "      <td>0.0</td>\n",
       "      <td>0.0</td>\n",
       "      <td>0.0</td>\n",
       "      <td>0.0</td>\n",
       "      <td>0.0</td>\n",
       "      <td>0.0</td>\n",
       "      <td>0.0</td>\n",
       "      <td>0.0</td>\n",
       "      <td>0.0</td>\n",
       "      <td>0.0</td>\n",
       "    </tr>\n",
       "    <tr>\n",
       "      <td>57</td>\n",
       "      <td>58</td>\n",
       "      <td>110-53-2</td>\n",
       "      <td>CCCCCBr</td>\n",
       "      <td>NRB</td>\n",
       "      <td>Cheng</td>\n",
       "      <td>3.350347</td>\n",
       "      <td>1.167500</td>\n",
       "      <td>3.350347</td>\n",
       "      <td>1.167500</td>\n",
       "      <td>0.429137</td>\n",
       "      <td>...</td>\n",
       "      <td>0.0</td>\n",
       "      <td>0.0</td>\n",
       "      <td>0.0</td>\n",
       "      <td>0.0</td>\n",
       "      <td>0.0</td>\n",
       "      <td>0.0</td>\n",
       "      <td>0.0</td>\n",
       "      <td>0.0</td>\n",
       "      <td>1.0</td>\n",
       "      <td>0.0</td>\n",
       "    </tr>\n",
       "  </tbody>\n",
       "</table>\n",
       "<p>5 rows × 205 columns</p>\n",
       "</div>"
      ],
      "text/plain": [
       "      Unnamed: 0      CASRN                           SMILES EndPt Source  \\\n",
       "245          246    64-67-5                  CCOS(=O)(=O)OCC    RB  Cheng   \n",
       "1329        1330  2549-51-1                     ClCC(=O)OC=C    RB  Cheng   \n",
       "1484        1485  2051-62-9             Clc1ccc(cc1)c2ccccc2    RB  Cheng   \n",
       "1435        1436  2216-51-5  CC(C)[C@@H]1CC[C@@H](C)C[C@H]1O   NRB  Cheng   \n",
       "57            58   110-53-2                          CCCCCBr   NRB  Cheng   \n",
       "\n",
       "      MaxEStateIndex  MinEStateIndex  MaxAbsEStateIndex  MinAbsEStateIndex  \\\n",
       "245        10.386111       -3.681713          10.386111           0.113426   \n",
       "1329        9.986389       -0.475309           9.986389           0.119028   \n",
       "1484        5.799129        0.777483           5.799129           0.777483   \n",
       "1435        9.709769       -0.028935           9.709769           0.028935   \n",
       "57          3.350347        1.167500           3.350347           1.167500   \n",
       "\n",
       "           qed  ...  fr_sulfide  fr_sulfonamd  fr_sulfone  fr_term_acetylene  \\\n",
       "245   0.584209  ...         0.0           0.0         0.0                0.0   \n",
       "1329  0.307700  ...         0.0           0.0         0.0                0.0   \n",
       "1484  0.634617  ...         0.0           0.0         0.0                0.0   \n",
       "1435  0.617949  ...         0.0           0.0         0.0                0.0   \n",
       "57    0.429137  ...         0.0           0.0         0.0                0.0   \n",
       "\n",
       "      fr_tetrazole  fr_thiazole  fr_thiocyan  fr_thiophene  fr_unbrch_alkane  \\\n",
       "245            0.0          0.0          0.0           0.0               0.0   \n",
       "1329           0.0          0.0          0.0           0.0               0.0   \n",
       "1484           0.0          0.0          0.0           0.0               0.0   \n",
       "1435           0.0          0.0          0.0           0.0               0.0   \n",
       "57             0.0          0.0          0.0           0.0               1.0   \n",
       "\n",
       "      fr_urea  \n",
       "245       0.0  \n",
       "1329      0.0  \n",
       "1484      0.0  \n",
       "1435      0.0  \n",
       "57        0.0  \n",
       "\n",
       "[5 rows x 205 columns]"
      ]
     },
     "execution_count": 10,
     "metadata": {},
     "output_type": "execute_result"
    }
   ],
   "source": [
    "cheng_df.sample(5).head()"
   ]
  },
  {
   "cell_type": "code",
   "execution_count": 11,
   "metadata": {},
   "outputs": [],
   "source": [
    "cheng_df.to_csv('..\\\\data\\\\Cheng_RDKit_Features.scv')"
   ]
  },
  {
   "cell_type": "markdown",
   "metadata": {
    "slideshow": {
     "slide_type": "-"
    }
   },
   "source": [
    "### Read data"
   ]
  },
  {
   "cell_type": "code",
   "execution_count": 12,
   "metadata": {},
   "outputs": [],
   "source": [
    "mansouri_df = pd.read_csv(\"..\\\\data\\\\MansouriData_acquire.csv\")"
   ]
  },
  {
   "cell_type": "code",
   "execution_count": 13,
   "metadata": {},
   "outputs": [
    {
     "data": {
      "text/html": [
       "<div>\n",
       "<style scoped>\n",
       "    .dataframe tbody tr th:only-of-type {\n",
       "        vertical-align: middle;\n",
       "    }\n",
       "\n",
       "    .dataframe tbody tr th {\n",
       "        vertical-align: top;\n",
       "    }\n",
       "\n",
       "    .dataframe thead th {\n",
       "        text-align: right;\n",
       "    }\n",
       "</style>\n",
       "<table border=\"1\" class=\"dataframe\">\n",
       "  <thead>\n",
       "    <tr style=\"text-align: right;\">\n",
       "      <th></th>\n",
       "      <th>Unnamed: 0</th>\n",
       "      <th>CASRN</th>\n",
       "      <th>SMILES</th>\n",
       "      <th>EndPt</th>\n",
       "      <th>Source</th>\n",
       "    </tr>\n",
       "  </thead>\n",
       "  <tbody>\n",
       "    <tr>\n",
       "      <td>788</td>\n",
       "      <td>789</td>\n",
       "      <td>100-02-7</td>\n",
       "      <td>Oc1ccc(cc1)[N+]([O-])=O</td>\n",
       "      <td>NRB</td>\n",
       "      <td>Mansouri</td>\n",
       "    </tr>\n",
       "    <tr>\n",
       "      <td>44</td>\n",
       "      <td>45</td>\n",
       "      <td>112-62-9</td>\n",
       "      <td>CCCCCCCC\\C=C/CCCCCCCC(=O)OC</td>\n",
       "      <td>RB</td>\n",
       "      <td>Mansouri</td>\n",
       "    </tr>\n",
       "    <tr>\n",
       "      <td>627</td>\n",
       "      <td>628</td>\n",
       "      <td>50-31-7</td>\n",
       "      <td>OC(=O)c1c(Cl)ccc(Cl)c1Cl</td>\n",
       "      <td>NRB</td>\n",
       "      <td>Mansouri</td>\n",
       "    </tr>\n",
       "    <tr>\n",
       "      <td>573</td>\n",
       "      <td>574</td>\n",
       "      <td>3733-79-7</td>\n",
       "      <td>CC(C)C1=CC2C(C)CC1C3C2C(=O)OC3=O</td>\n",
       "      <td>NRB</td>\n",
       "      <td>Mansouri</td>\n",
       "    </tr>\n",
       "    <tr>\n",
       "      <td>124</td>\n",
       "      <td>125</td>\n",
       "      <td>821-38-5</td>\n",
       "      <td>OC(=O)CCCCCCCCCCCCC(O)=O</td>\n",
       "      <td>RB</td>\n",
       "      <td>Mansouri</td>\n",
       "    </tr>\n",
       "  </tbody>\n",
       "</table>\n",
       "</div>"
      ],
      "text/plain": [
       "     Unnamed: 0      CASRN                            SMILES EndPt    Source\n",
       "788         789   100-02-7           Oc1ccc(cc1)[N+]([O-])=O   NRB  Mansouri\n",
       "44           45   112-62-9       CCCCCCCC\\C=C/CCCCCCCC(=O)OC    RB  Mansouri\n",
       "627         628    50-31-7          OC(=O)c1c(Cl)ccc(Cl)c1Cl   NRB  Mansouri\n",
       "573         574  3733-79-7  CC(C)C1=CC2C(C)CC1C3C2C(=O)OC3=O   NRB  Mansouri\n",
       "124         125   821-38-5          OC(=O)CCCCCCCCCCCCC(O)=O    RB  Mansouri"
      ]
     },
     "execution_count": 13,
     "metadata": {},
     "output_type": "execute_result"
    }
   ],
   "source": [
    "mansouri_df.sample(5).head()"
   ]
  },
  {
   "cell_type": "markdown",
   "metadata": {},
   "source": [
    "### Calculate Features"
   ]
  },
  {
   "cell_type": "code",
   "execution_count": 14,
   "metadata": {},
   "outputs": [],
   "source": [
    "nms = [x[0] for x in Descriptors._descList]\n",
    "calc = MoleculeDescriptors.MolecularDescriptorCalculator(nms)\n",
    "for i in range(len(mansouri_df)):\n",
    "    descrs = calc.CalcDescriptors(Chem.MolFromSmiles(mansouri_df.loc[i, 'SMILES']))\n",
    "    for x in range(len(descrs)):\n",
    "        mansouri_df.at[i, str(nms[x])] = descrs[x]\n",
    "mansouri_df = mansouri_df.dropna()"
   ]
  },
  {
   "cell_type": "code",
   "execution_count": 15,
   "metadata": {},
   "outputs": [
    {
     "data": {
      "text/plain": [
       "(1044, 205)"
      ]
     },
     "execution_count": 15,
     "metadata": {},
     "output_type": "execute_result"
    }
   ],
   "source": [
    "mansouri_df.shape"
   ]
  },
  {
   "cell_type": "code",
   "execution_count": 16,
   "metadata": {},
   "outputs": [
    {
     "data": {
      "text/html": [
       "<div>\n",
       "<style scoped>\n",
       "    .dataframe tbody tr th:only-of-type {\n",
       "        vertical-align: middle;\n",
       "    }\n",
       "\n",
       "    .dataframe tbody tr th {\n",
       "        vertical-align: top;\n",
       "    }\n",
       "\n",
       "    .dataframe thead th {\n",
       "        text-align: right;\n",
       "    }\n",
       "</style>\n",
       "<table border=\"1\" class=\"dataframe\">\n",
       "  <thead>\n",
       "    <tr style=\"text-align: right;\">\n",
       "      <th></th>\n",
       "      <th>Unnamed: 0</th>\n",
       "      <th>CASRN</th>\n",
       "      <th>SMILES</th>\n",
       "      <th>EndPt</th>\n",
       "      <th>Source</th>\n",
       "      <th>MaxEStateIndex</th>\n",
       "      <th>MinEStateIndex</th>\n",
       "      <th>MaxAbsEStateIndex</th>\n",
       "      <th>MinAbsEStateIndex</th>\n",
       "      <th>qed</th>\n",
       "      <th>...</th>\n",
       "      <th>fr_sulfide</th>\n",
       "      <th>fr_sulfonamd</th>\n",
       "      <th>fr_sulfone</th>\n",
       "      <th>fr_term_acetylene</th>\n",
       "      <th>fr_tetrazole</th>\n",
       "      <th>fr_thiazole</th>\n",
       "      <th>fr_thiocyan</th>\n",
       "      <th>fr_thiophene</th>\n",
       "      <th>fr_unbrch_alkane</th>\n",
       "      <th>fr_urea</th>\n",
       "    </tr>\n",
       "  </thead>\n",
       "  <tbody>\n",
       "    <tr>\n",
       "      <td>445</td>\n",
       "      <td>446</td>\n",
       "      <td>24019-05-4</td>\n",
       "      <td>O[S](=O)(=O)c1cc(Cl)ccc1Oc2ccc(Cl)cc2NC(=O)Nc3...</td>\n",
       "      <td>NRB</td>\n",
       "      <td>Mansouri</td>\n",
       "      <td>12.414637</td>\n",
       "      <td>-4.626948</td>\n",
       "      <td>12.414637</td>\n",
       "      <td>0.056399</td>\n",
       "      <td>0.313806</td>\n",
       "      <td>...</td>\n",
       "      <td>0.0</td>\n",
       "      <td>0.0</td>\n",
       "      <td>0.0</td>\n",
       "      <td>0.0</td>\n",
       "      <td>0.0</td>\n",
       "      <td>0.0</td>\n",
       "      <td>0.0</td>\n",
       "      <td>0.0</td>\n",
       "      <td>0.0</td>\n",
       "      <td>1.0</td>\n",
       "    </tr>\n",
       "    <tr>\n",
       "      <td>656</td>\n",
       "      <td>657</td>\n",
       "      <td>97-39-2</td>\n",
       "      <td>Cc1ccccc1NC(N)=Nc2ccccc2C</td>\n",
       "      <td>NRB</td>\n",
       "      <td>Mansouri</td>\n",
       "      <td>5.914410</td>\n",
       "      <td>0.401481</td>\n",
       "      <td>5.914410</td>\n",
       "      <td>0.401481</td>\n",
       "      <td>0.623325</td>\n",
       "      <td>...</td>\n",
       "      <td>0.0</td>\n",
       "      <td>0.0</td>\n",
       "      <td>0.0</td>\n",
       "      <td>0.0</td>\n",
       "      <td>0.0</td>\n",
       "      <td>0.0</td>\n",
       "      <td>0.0</td>\n",
       "      <td>0.0</td>\n",
       "      <td>0.0</td>\n",
       "      <td>0.0</td>\n",
       "    </tr>\n",
       "    <tr>\n",
       "      <td>302</td>\n",
       "      <td>303</td>\n",
       "      <td>2668-47-5</td>\n",
       "      <td>CC(C)(C)c1cc(cc(c1O)C(C)(C)C)c2ccccc2</td>\n",
       "      <td>NRB</td>\n",
       "      <td>Mansouri</td>\n",
       "      <td>10.731398</td>\n",
       "      <td>-0.088419</td>\n",
       "      <td>10.731398</td>\n",
       "      <td>0.088419</td>\n",
       "      <td>0.715789</td>\n",
       "      <td>...</td>\n",
       "      <td>0.0</td>\n",
       "      <td>0.0</td>\n",
       "      <td>0.0</td>\n",
       "      <td>0.0</td>\n",
       "      <td>0.0</td>\n",
       "      <td>0.0</td>\n",
       "      <td>0.0</td>\n",
       "      <td>0.0</td>\n",
       "      <td>0.0</td>\n",
       "      <td>0.0</td>\n",
       "    </tr>\n",
       "    <tr>\n",
       "      <td>529</td>\n",
       "      <td>530</td>\n",
       "      <td>26780-96-1</td>\n",
       "      <td>CC1=CC(C)(C)Nc2ccccc12</td>\n",
       "      <td>NRB</td>\n",
       "      <td>Mansouri</td>\n",
       "      <td>3.490231</td>\n",
       "      <td>0.081782</td>\n",
       "      <td>3.490231</td>\n",
       "      <td>0.081782</td>\n",
       "      <td>0.634429</td>\n",
       "      <td>...</td>\n",
       "      <td>0.0</td>\n",
       "      <td>0.0</td>\n",
       "      <td>0.0</td>\n",
       "      <td>0.0</td>\n",
       "      <td>0.0</td>\n",
       "      <td>0.0</td>\n",
       "      <td>0.0</td>\n",
       "      <td>0.0</td>\n",
       "      <td>0.0</td>\n",
       "      <td>0.0</td>\n",
       "    </tr>\n",
       "    <tr>\n",
       "      <td>51</td>\n",
       "      <td>52</td>\n",
       "      <td>79-43-6</td>\n",
       "      <td>OC(=O)C(Cl)Cl</td>\n",
       "      <td>RB</td>\n",
       "      <td>Mansouri</td>\n",
       "      <td>9.435185</td>\n",
       "      <td>-1.287037</td>\n",
       "      <td>9.435185</td>\n",
       "      <td>1.209877</td>\n",
       "      <td>0.533045</td>\n",
       "      <td>...</td>\n",
       "      <td>0.0</td>\n",
       "      <td>0.0</td>\n",
       "      <td>0.0</td>\n",
       "      <td>0.0</td>\n",
       "      <td>0.0</td>\n",
       "      <td>0.0</td>\n",
       "      <td>0.0</td>\n",
       "      <td>0.0</td>\n",
       "      <td>0.0</td>\n",
       "      <td>0.0</td>\n",
       "    </tr>\n",
       "  </tbody>\n",
       "</table>\n",
       "<p>5 rows × 205 columns</p>\n",
       "</div>"
      ],
      "text/plain": [
       "     Unnamed: 0       CASRN  \\\n",
       "445         446  24019-05-4   \n",
       "656         657     97-39-2   \n",
       "302         303   2668-47-5   \n",
       "529         530  26780-96-1   \n",
       "51           52     79-43-6   \n",
       "\n",
       "                                                SMILES EndPt    Source  \\\n",
       "445  O[S](=O)(=O)c1cc(Cl)ccc1Oc2ccc(Cl)cc2NC(=O)Nc3...   NRB  Mansouri   \n",
       "656                          Cc1ccccc1NC(N)=Nc2ccccc2C   NRB  Mansouri   \n",
       "302              CC(C)(C)c1cc(cc(c1O)C(C)(C)C)c2ccccc2   NRB  Mansouri   \n",
       "529                             CC1=CC(C)(C)Nc2ccccc12   NRB  Mansouri   \n",
       "51                                       OC(=O)C(Cl)Cl    RB  Mansouri   \n",
       "\n",
       "     MaxEStateIndex  MinEStateIndex  MaxAbsEStateIndex  MinAbsEStateIndex  \\\n",
       "445       12.414637       -4.626948          12.414637           0.056399   \n",
       "656        5.914410        0.401481           5.914410           0.401481   \n",
       "302       10.731398       -0.088419          10.731398           0.088419   \n",
       "529        3.490231        0.081782           3.490231           0.081782   \n",
       "51         9.435185       -1.287037           9.435185           1.209877   \n",
       "\n",
       "          qed  ...  fr_sulfide  fr_sulfonamd  fr_sulfone  fr_term_acetylene  \\\n",
       "445  0.313806  ...         0.0           0.0         0.0                0.0   \n",
       "656  0.623325  ...         0.0           0.0         0.0                0.0   \n",
       "302  0.715789  ...         0.0           0.0         0.0                0.0   \n",
       "529  0.634429  ...         0.0           0.0         0.0                0.0   \n",
       "51   0.533045  ...         0.0           0.0         0.0                0.0   \n",
       "\n",
       "     fr_tetrazole  fr_thiazole  fr_thiocyan  fr_thiophene  fr_unbrch_alkane  \\\n",
       "445           0.0          0.0          0.0           0.0               0.0   \n",
       "656           0.0          0.0          0.0           0.0               0.0   \n",
       "302           0.0          0.0          0.0           0.0               0.0   \n",
       "529           0.0          0.0          0.0           0.0               0.0   \n",
       "51            0.0          0.0          0.0           0.0               0.0   \n",
       "\n",
       "     fr_urea  \n",
       "445      1.0  \n",
       "656      0.0  \n",
       "302      0.0  \n",
       "529      0.0  \n",
       "51       0.0  \n",
       "\n",
       "[5 rows x 205 columns]"
      ]
     },
     "execution_count": 16,
     "metadata": {},
     "output_type": "execute_result"
    }
   ],
   "source": [
    "mansouri_df.sample(5).head()"
   ]
  },
  {
   "cell_type": "code",
   "execution_count": 17,
   "metadata": {},
   "outputs": [],
   "source": [
    "mansouri_df.to_csv('..\\\\data\\\\Mansouri_RDKit_Features.scv')"
   ]
  },
  {
   "cell_type": "code",
   "execution_count": null,
   "metadata": {},
   "outputs": [],
   "source": []
  }
 ],
 "metadata": {
  "creator": "US16120",
  "kernelspec": {
   "display_name": "Python 3",
   "language": "python",
   "name": "python3"
  },
  "language_info": {
   "codemirror_mode": {
    "name": "ipython",
    "version": 3
   },
   "file_extension": ".py",
   "mimetype": "text/x-python",
   "name": "python",
   "nbconvert_exporter": "python",
   "pygments_lexer": "ipython3",
   "version": "3.7.4"
  },
  "tags": [],
  "toc": {
   "base_numbering": 1,
   "nav_menu": {},
   "number_sections": true,
   "sideBar": false,
   "skip_h1_title": false,
   "title_cell": "Table of Contents",
   "title_sidebar": "Contents",
   "toc_cell": false,
   "toc_position": {},
   "toc_section_display": true,
   "toc_window_display": false
  }
 },
 "nbformat": 4,
 "nbformat_minor": 1
}

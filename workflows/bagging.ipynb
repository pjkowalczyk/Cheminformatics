{
 "cells": [
  {
   "cell_type": "markdown",
   "metadata": {},
   "source": [
    "## Loading the libraries"
   ]
  },
  {
   "cell_type": "code",
   "execution_count": 1,
   "metadata": {},
   "outputs": [],
   "source": [
    "import numpy as np\n",
    "import pandas as pd\n",
    "import matplotlib.pyplot as plt\n",
    "\n",
    "from sklearn.model_selection import train_test_split\n",
    "\n",
    "from sklearn.tree import DecisionTreeClassifier\n",
    "from sklearn.ensemble import BaggingClassifier\n",
    "\n",
    "from sklearn.metrics import accuracy_score\n",
    "\n",
    "\n",
    "from sklearn.ensemble import RandomForestClassifier\n",
    "\n",
    "from sklearn.model_selection import StratifiedKFold\n",
    "from sklearn.model_selection import cross_val_score\n",
    "\n",
    "from sklearn.model_selection import RandomizedSearchCV"
   ]
  },
  {
   "cell_type": "markdown",
   "metadata": {},
   "source": [
    "## Loading the data"
   ]
  },
  {
   "cell_type": "code",
   "execution_count": 2,
   "metadata": {},
   "outputs": [
    {
     "data": {
      "text/html": [
       "<div>\n",
       "<style scoped>\n",
       "    .dataframe tbody tr th:only-of-type {\n",
       "        vertical-align: middle;\n",
       "    }\n",
       "\n",
       "    .dataframe tbody tr th {\n",
       "        vertical-align: top;\n",
       "    }\n",
       "\n",
       "    .dataframe thead th {\n",
       "        text-align: right;\n",
       "    }\n",
       "</style>\n",
       "<table border=\"1\" class=\"dataframe\">\n",
       "  <thead>\n",
       "    <tr style=\"text-align: right;\">\n",
       "      <th></th>\n",
       "      <th>CAS</th>\n",
       "      <th>Ready_Biodeg</th>\n",
       "      <th>MaxEStateIndex</th>\n",
       "      <th>MinEStateIndex</th>\n",
       "      <th>MinAbsEStateIndex</th>\n",
       "      <th>qed</th>\n",
       "      <th>MolWt</th>\n",
       "      <th>MaxPartialCharge</th>\n",
       "      <th>MinPartialCharge</th>\n",
       "      <th>FpDensityMorgan1</th>\n",
       "      <th>...</th>\n",
       "      <th>EState_VSA9</th>\n",
       "      <th>VSA_EState2</th>\n",
       "      <th>VSA_EState3</th>\n",
       "      <th>VSA_EState4</th>\n",
       "      <th>VSA_EState5</th>\n",
       "      <th>VSA_EState8</th>\n",
       "      <th>VSA_EState9</th>\n",
       "      <th>FractionCSP3</th>\n",
       "      <th>NHOHCount</th>\n",
       "      <th>RingCount</th>\n",
       "    </tr>\n",
       "  </thead>\n",
       "  <tbody>\n",
       "    <tr>\n",
       "      <th>155</th>\n",
       "      <td>108-21-4</td>\n",
       "      <td>1.0</td>\n",
       "      <td>0.571969</td>\n",
       "      <td>0.060095</td>\n",
       "      <td>-0.803739</td>\n",
       "      <td>-0.267508</td>\n",
       "      <td>-0.817421</td>\n",
       "      <td>0.889805</td>\n",
       "      <td>-0.748603</td>\n",
       "      <td>1.180769</td>\n",
       "      <td>...</td>\n",
       "      <td>-0.720158</td>\n",
       "      <td>0.350129</td>\n",
       "      <td>-0.773727</td>\n",
       "      <td>-0.476154</td>\n",
       "      <td>0.027731</td>\n",
       "      <td>0.628451</td>\n",
       "      <td>-0.045418</td>\n",
       "      <td>0.853436</td>\n",
       "      <td>-0.781471</td>\n",
       "      <td>-0.957207</td>\n",
       "    </tr>\n",
       "    <tr>\n",
       "      <th>179</th>\n",
       "      <td>108-90-7</td>\n",
       "      <td>0.0</td>\n",
       "      <td>-0.863122</td>\n",
       "      <td>0.759026</td>\n",
       "      <td>0.575229</td>\n",
       "      <td>-0.124004</td>\n",
       "      <td>-0.733182</td>\n",
       "      <td>-0.987076</td>\n",
       "      <td>1.904770</td>\n",
       "      <td>-0.201365</td>\n",
       "      <td>...</td>\n",
       "      <td>0.166715</td>\n",
       "      <td>-0.713024</td>\n",
       "      <td>-0.678985</td>\n",
       "      <td>-0.476154</td>\n",
       "      <td>0.069854</td>\n",
       "      <td>-0.698329</td>\n",
       "      <td>-0.045418</td>\n",
       "      <td>-1.186965</td>\n",
       "      <td>-0.781471</td>\n",
       "      <td>0.016347</td>\n",
       "    </tr>\n",
       "    <tr>\n",
       "      <th>1314</th>\n",
       "      <td>826-36-8</td>\n",
       "      <td>0.0</td>\n",
       "      <td>0.962464</td>\n",
       "      <td>0.197471</td>\n",
       "      <td>-0.822430</td>\n",
       "      <td>0.450673</td>\n",
       "      <td>-0.388324</td>\n",
       "      <td>-0.302543</td>\n",
       "      <td>0.352356</td>\n",
       "      <td>0.018520</td>\n",
       "      <td>...</td>\n",
       "      <td>-0.720158</td>\n",
       "      <td>0.479671</td>\n",
       "      <td>-0.363066</td>\n",
       "      <td>-0.488155</td>\n",
       "      <td>0.143798</td>\n",
       "      <td>1.484941</td>\n",
       "      <td>-0.045418</td>\n",
       "      <td>1.080147</td>\n",
       "      <td>0.072201</td>\n",
       "      <td>0.016347</td>\n",
       "    </tr>\n",
       "    <tr>\n",
       "      <th>1584</th>\n",
       "      <td>NOCAS_862301</td>\n",
       "      <td>0.0</td>\n",
       "      <td>-0.839478</td>\n",
       "      <td>0.317944</td>\n",
       "      <td>-0.564995</td>\n",
       "      <td>0.621550</td>\n",
       "      <td>-0.663503</td>\n",
       "      <td>-1.087371</td>\n",
       "      <td>0.224914</td>\n",
       "      <td>0.336132</td>\n",
       "      <td>...</td>\n",
       "      <td>-0.281829</td>\n",
       "      <td>-0.713024</td>\n",
       "      <td>-0.773727</td>\n",
       "      <td>2.238021</td>\n",
       "      <td>0.069854</td>\n",
       "      <td>-0.177163</td>\n",
       "      <td>-0.045418</td>\n",
       "      <td>-0.549340</td>\n",
       "      <td>0.925874</td>\n",
       "      <td>0.016347</td>\n",
       "    </tr>\n",
       "    <tr>\n",
       "      <th>52</th>\n",
       "      <td>102-60-3</td>\n",
       "      <td>0.0</td>\n",
       "      <td>0.394003</td>\n",
       "      <td>-0.103323</td>\n",
       "      <td>-0.044859</td>\n",
       "      <td>-0.682432</td>\n",
       "      <td>0.720041</td>\n",
       "      <td>-0.819991</td>\n",
       "      <td>-0.250789</td>\n",
       "      <td>-1.289795</td>\n",
       "      <td>...</td>\n",
       "      <td>-0.720158</td>\n",
       "      <td>-0.290712</td>\n",
       "      <td>3.748625</td>\n",
       "      <td>-0.476154</td>\n",
       "      <td>0.069854</td>\n",
       "      <td>1.995645</td>\n",
       "      <td>-0.045418</td>\n",
       "      <td>1.363536</td>\n",
       "      <td>2.633219</td>\n",
       "      <td>-0.957207</td>\n",
       "    </tr>\n",
       "  </tbody>\n",
       "</table>\n",
       "<p>5 rows × 65 columns</p>\n",
       "</div>"
      ],
      "text/plain": [
       "               CAS  Ready_Biodeg  MaxEStateIndex  MinEStateIndex  \\\n",
       "155       108-21-4           1.0        0.571969        0.060095   \n",
       "179       108-90-7           0.0       -0.863122        0.759026   \n",
       "1314      826-36-8           0.0        0.962464        0.197471   \n",
       "1584  NOCAS_862301           0.0       -0.839478        0.317944   \n",
       "52        102-60-3           0.0        0.394003       -0.103323   \n",
       "\n",
       "      MinAbsEStateIndex       qed     MolWt  MaxPartialCharge  \\\n",
       "155           -0.803739 -0.267508 -0.817421          0.889805   \n",
       "179            0.575229 -0.124004 -0.733182         -0.987076   \n",
       "1314          -0.822430  0.450673 -0.388324         -0.302543   \n",
       "1584          -0.564995  0.621550 -0.663503         -1.087371   \n",
       "52            -0.044859 -0.682432  0.720041         -0.819991   \n",
       "\n",
       "      MinPartialCharge  FpDensityMorgan1  ...  EState_VSA9  VSA_EState2  \\\n",
       "155          -0.748603          1.180769  ...    -0.720158     0.350129   \n",
       "179           1.904770         -0.201365  ...     0.166715    -0.713024   \n",
       "1314          0.352356          0.018520  ...    -0.720158     0.479671   \n",
       "1584          0.224914          0.336132  ...    -0.281829    -0.713024   \n",
       "52           -0.250789         -1.289795  ...    -0.720158    -0.290712   \n",
       "\n",
       "      VSA_EState3  VSA_EState4  VSA_EState5  VSA_EState8  VSA_EState9  \\\n",
       "155     -0.773727    -0.476154     0.027731     0.628451    -0.045418   \n",
       "179     -0.678985    -0.476154     0.069854    -0.698329    -0.045418   \n",
       "1314    -0.363066    -0.488155     0.143798     1.484941    -0.045418   \n",
       "1584    -0.773727     2.238021     0.069854    -0.177163    -0.045418   \n",
       "52       3.748625    -0.476154     0.069854     1.995645    -0.045418   \n",
       "\n",
       "      FractionCSP3  NHOHCount  RingCount  \n",
       "155       0.853436  -0.781471  -0.957207  \n",
       "179      -1.186965  -0.781471   0.016347  \n",
       "1314      1.080147   0.072201   0.016347  \n",
       "1584     -0.549340   0.925874   0.016347  \n",
       "52        1.363536   2.633219  -0.957207  \n",
       "\n",
       "[5 rows x 65 columns]"
      ]
     },
     "execution_count": 2,
     "metadata": {},
     "output_type": "execute_result"
    }
   ],
   "source": [
    "df = pd.read_csv(\"../data/RBioDeg_curated.csv\")\n",
    "df.sample(5).head()"
   ]
  },
  {
   "cell_type": "code",
   "execution_count": 3,
   "metadata": {},
   "outputs": [
    {
     "data": {
      "text/plain": [
       "0.0    919\n",
       "1.0    697\n",
       "Name: Ready_Biodeg, dtype: int64"
      ]
     },
     "execution_count": 3,
     "metadata": {},
     "output_type": "execute_result"
    }
   ],
   "source": [
    "df['Ready_Biodeg'].value_counts()"
   ]
  },
  {
   "cell_type": "code",
   "execution_count": 4,
   "metadata": {},
   "outputs": [],
   "source": [
    "df.set_index('CAS', inplace = True)"
   ]
  },
  {
   "cell_type": "code",
   "execution_count": 5,
   "metadata": {},
   "outputs": [
    {
     "data": {
      "text/html": [
       "<div>\n",
       "<style scoped>\n",
       "    .dataframe tbody tr th:only-of-type {\n",
       "        vertical-align: middle;\n",
       "    }\n",
       "\n",
       "    .dataframe tbody tr th {\n",
       "        vertical-align: top;\n",
       "    }\n",
       "\n",
       "    .dataframe thead th {\n",
       "        text-align: right;\n",
       "    }\n",
       "</style>\n",
       "<table border=\"1\" class=\"dataframe\">\n",
       "  <thead>\n",
       "    <tr style=\"text-align: right;\">\n",
       "      <th></th>\n",
       "      <th>Ready_Biodeg</th>\n",
       "      <th>MaxEStateIndex</th>\n",
       "      <th>MinEStateIndex</th>\n",
       "      <th>MinAbsEStateIndex</th>\n",
       "      <th>qed</th>\n",
       "      <th>MolWt</th>\n",
       "      <th>MaxPartialCharge</th>\n",
       "      <th>MinPartialCharge</th>\n",
       "      <th>FpDensityMorgan1</th>\n",
       "      <th>BalabanJ</th>\n",
       "      <th>...</th>\n",
       "      <th>EState_VSA9</th>\n",
       "      <th>VSA_EState2</th>\n",
       "      <th>VSA_EState3</th>\n",
       "      <th>VSA_EState4</th>\n",
       "      <th>VSA_EState5</th>\n",
       "      <th>VSA_EState8</th>\n",
       "      <th>VSA_EState9</th>\n",
       "      <th>FractionCSP3</th>\n",
       "      <th>NHOHCount</th>\n",
       "      <th>RingCount</th>\n",
       "    </tr>\n",
       "    <tr>\n",
       "      <th>CAS</th>\n",
       "      <th></th>\n",
       "      <th></th>\n",
       "      <th></th>\n",
       "      <th></th>\n",
       "      <th></th>\n",
       "      <th></th>\n",
       "      <th></th>\n",
       "      <th></th>\n",
       "      <th></th>\n",
       "      <th></th>\n",
       "      <th></th>\n",
       "      <th></th>\n",
       "      <th></th>\n",
       "      <th></th>\n",
       "      <th></th>\n",
       "      <th></th>\n",
       "      <th></th>\n",
       "      <th></th>\n",
       "      <th></th>\n",
       "      <th></th>\n",
       "      <th></th>\n",
       "    </tr>\n",
       "  </thead>\n",
       "  <tbody>\n",
       "    <tr>\n",
       "      <th>131-09-9</th>\n",
       "      <td>0.0</td>\n",
       "      <td>1.262938</td>\n",
       "      <td>0.110032</td>\n",
       "      <td>-0.636546</td>\n",
       "      <td>0.659866</td>\n",
       "      <td>0.318003</td>\n",
       "      <td>0.113388</td>\n",
       "      <td>0.474330</td>\n",
       "      <td>-0.912757</td>\n",
       "      <td>-0.795778</td>\n",
       "      <td>...</td>\n",
       "      <td>0.166715</td>\n",
       "      <td>1.869035</td>\n",
       "      <td>-0.718563</td>\n",
       "      <td>0.215799</td>\n",
       "      <td>0.018495</td>\n",
       "      <td>-0.698329</td>\n",
       "      <td>-0.045418</td>\n",
       "      <td>-1.186965</td>\n",
       "      <td>-0.781471</td>\n",
       "      <td>1.963455</td>\n",
       "    </tr>\n",
       "    <tr>\n",
       "      <th>1897-45-6</th>\n",
       "      <td>1.0</td>\n",
       "      <td>0.147917</td>\n",
       "      <td>0.156114</td>\n",
       "      <td>-0.784356</td>\n",
       "      <td>0.139651</td>\n",
       "      <td>0.505880</td>\n",
       "      <td>-0.543859</td>\n",
       "      <td>1.148439</td>\n",
       "      <td>-1.065198</td>\n",
       "      <td>1.368424</td>\n",
       "      <td>...</td>\n",
       "      <td>3.631860</td>\n",
       "      <td>-0.713024</td>\n",
       "      <td>1.281135</td>\n",
       "      <td>-0.509917</td>\n",
       "      <td>0.069854</td>\n",
       "      <td>-0.698329</td>\n",
       "      <td>-0.045418</td>\n",
       "      <td>-1.186965</td>\n",
       "      <td>-0.781471</td>\n",
       "      <td>0.016347</td>\n",
       "    </tr>\n",
       "    <tr>\n",
       "      <th>80-07-9</th>\n",
       "      <td>0.0</td>\n",
       "      <td>1.255064</td>\n",
       "      <td>-2.214383</td>\n",
       "      <td>-0.468596</td>\n",
       "      <td>2.142728</td>\n",
       "      <td>0.677598</td>\n",
       "      <td>0.199577</td>\n",
       "      <td>0.964982</td>\n",
       "      <td>-1.055035</td>\n",
       "      <td>-0.548764</td>\n",
       "      <td>...</td>\n",
       "      <td>1.053588</td>\n",
       "      <td>-0.668038</td>\n",
       "      <td>-0.654389</td>\n",
       "      <td>-0.476154</td>\n",
       "      <td>0.069854</td>\n",
       "      <td>-0.698329</td>\n",
       "      <td>-2.167395</td>\n",
       "      <td>-1.186965</td>\n",
       "      <td>-0.781471</td>\n",
       "      <td>0.989901</td>\n",
       "    </tr>\n",
       "    <tr>\n",
       "      <th>99-71-8</th>\n",
       "      <td>0.0</td>\n",
       "      <td>0.245869</td>\n",
       "      <td>0.447032</td>\n",
       "      <td>-0.231296</td>\n",
       "      <td>1.166007</td>\n",
       "      <td>-0.428884</td>\n",
       "      <td>-0.452703</td>\n",
       "      <td>-1.062477</td>\n",
       "      <td>0.458290</td>\n",
       "      <td>-0.087037</td>\n",
       "      <td>...</td>\n",
       "      <td>-0.329772</td>\n",
       "      <td>-0.713024</td>\n",
       "      <td>0.301530</td>\n",
       "      <td>0.040921</td>\n",
       "      <td>0.255314</td>\n",
       "      <td>0.446088</td>\n",
       "      <td>-0.045418</td>\n",
       "      <td>-0.166765</td>\n",
       "      <td>0.072201</td>\n",
       "      <td>0.016347</td>\n",
       "    </tr>\n",
       "    <tr>\n",
       "      <th>66-72-8</th>\n",
       "      <td>1.0</td>\n",
       "      <td>0.708834</td>\n",
       "      <td>0.001963</td>\n",
       "      <td>-0.641752</td>\n",
       "      <td>0.775730</td>\n",
       "      <td>-0.291990</td>\n",
       "      <td>-0.175495</td>\n",
       "      <td>-1.043677</td>\n",
       "      <td>1.411124</td>\n",
       "      <td>0.720962</td>\n",
       "      <td>...</td>\n",
       "      <td>-0.329772</td>\n",
       "      <td>0.797101</td>\n",
       "      <td>1.381224</td>\n",
       "      <td>-0.141087</td>\n",
       "      <td>0.039004</td>\n",
       "      <td>-0.359014</td>\n",
       "      <td>-0.045418</td>\n",
       "      <td>-0.549340</td>\n",
       "      <td>0.925874</td>\n",
       "      <td>0.016347</td>\n",
       "    </tr>\n",
       "  </tbody>\n",
       "</table>\n",
       "<p>5 rows × 64 columns</p>\n",
       "</div>"
      ],
      "text/plain": [
       "           Ready_Biodeg  MaxEStateIndex  MinEStateIndex  MinAbsEStateIndex  \\\n",
       "CAS                                                                          \n",
       "131-09-9            0.0        1.262938        0.110032          -0.636546   \n",
       "1897-45-6           1.0        0.147917        0.156114          -0.784356   \n",
       "80-07-9             0.0        1.255064       -2.214383          -0.468596   \n",
       "99-71-8             0.0        0.245869        0.447032          -0.231296   \n",
       "66-72-8             1.0        0.708834        0.001963          -0.641752   \n",
       "\n",
       "                qed     MolWt  MaxPartialCharge  MinPartialCharge  \\\n",
       "CAS                                                                 \n",
       "131-09-9   0.659866  0.318003          0.113388          0.474330   \n",
       "1897-45-6  0.139651  0.505880         -0.543859          1.148439   \n",
       "80-07-9    2.142728  0.677598          0.199577          0.964982   \n",
       "99-71-8    1.166007 -0.428884         -0.452703         -1.062477   \n",
       "66-72-8    0.775730 -0.291990         -0.175495         -1.043677   \n",
       "\n",
       "           FpDensityMorgan1  BalabanJ  ...  EState_VSA9  VSA_EState2  \\\n",
       "CAS                                    ...                             \n",
       "131-09-9          -0.912757 -0.795778  ...     0.166715     1.869035   \n",
       "1897-45-6         -1.065198  1.368424  ...     3.631860    -0.713024   \n",
       "80-07-9           -1.055035 -0.548764  ...     1.053588    -0.668038   \n",
       "99-71-8            0.458290 -0.087037  ...    -0.329772    -0.713024   \n",
       "66-72-8            1.411124  0.720962  ...    -0.329772     0.797101   \n",
       "\n",
       "           VSA_EState3  VSA_EState4  VSA_EState5  VSA_EState8  VSA_EState9  \\\n",
       "CAS                                                                          \n",
       "131-09-9     -0.718563     0.215799     0.018495    -0.698329    -0.045418   \n",
       "1897-45-6     1.281135    -0.509917     0.069854    -0.698329    -0.045418   \n",
       "80-07-9      -0.654389    -0.476154     0.069854    -0.698329    -2.167395   \n",
       "99-71-8       0.301530     0.040921     0.255314     0.446088    -0.045418   \n",
       "66-72-8       1.381224    -0.141087     0.039004    -0.359014    -0.045418   \n",
       "\n",
       "           FractionCSP3  NHOHCount  RingCount  \n",
       "CAS                                            \n",
       "131-09-9      -1.186965  -0.781471   1.963455  \n",
       "1897-45-6     -1.186965  -0.781471   0.016347  \n",
       "80-07-9       -1.186965  -0.781471   0.989901  \n",
       "99-71-8       -0.166765   0.072201   0.016347  \n",
       "66-72-8       -0.549340   0.925874   0.016347  \n",
       "\n",
       "[5 rows x 64 columns]"
      ]
     },
     "execution_count": 5,
     "metadata": {},
     "output_type": "execute_result"
    }
   ],
   "source": [
    "df.sample(5).head()"
   ]
  },
  {
   "cell_type": "code",
   "execution_count": 6,
   "metadata": {},
   "outputs": [],
   "source": [
    "def missing_values_table(df):\n",
    "        # Total missing values\n",
    "        mis_val = df.isnull().sum()\n",
    "        \n",
    "        # Percentage of missing values\n",
    "        mis_val_percent = 100 * df.isnull().sum() / len(df)\n",
    "        \n",
    "        # Make a table with the results\n",
    "        mis_val_table = pd.concat([mis_val, mis_val_percent], axis=1)\n",
    "        \n",
    "        # Rename the columns\n",
    "        mis_val_table_ren_columns = mis_val_table.rename(\n",
    "        columns = {0 : 'Missing Values', 1 : '% of Total Values'})\n",
    "        \n",
    "        # Sort the table by percentage of missing descending\n",
    "        mis_val_table_ren_columns = mis_val_table_ren_columns[\n",
    "            mis_val_table_ren_columns.iloc[:,1] != 0].sort_values(\n",
    "        '% of Total Values', ascending=False).round(1)\n",
    "        \n",
    "        # Print some summary information\n",
    "        print (\"Selected dataframe has \" + str(df.shape[1]) + \" columns.\\n\"      \n",
    "            \"There are \" + str(mis_val_table_ren_columns.shape[0]) +\n",
    "              \" columns that have missing values.\")\n",
    "        \n",
    "        # Return the dataframe with missing information\n",
    "        return mis_val_table_ren_columns"
   ]
  },
  {
   "cell_type": "code",
   "execution_count": 7,
   "metadata": {},
   "outputs": [
    {
     "name": "stdout",
     "output_type": "stream",
     "text": [
      "Selected dataframe has 64 columns.\n",
      "There are 0 columns that have missing values.\n"
     ]
    },
    {
     "data": {
      "text/html": [
       "<div>\n",
       "<style scoped>\n",
       "    .dataframe tbody tr th:only-of-type {\n",
       "        vertical-align: middle;\n",
       "    }\n",
       "\n",
       "    .dataframe tbody tr th {\n",
       "        vertical-align: top;\n",
       "    }\n",
       "\n",
       "    .dataframe thead th {\n",
       "        text-align: right;\n",
       "    }\n",
       "</style>\n",
       "<table border=\"1\" class=\"dataframe\">\n",
       "  <thead>\n",
       "    <tr style=\"text-align: right;\">\n",
       "      <th></th>\n",
       "      <th>Missing Values</th>\n",
       "      <th>% of Total Values</th>\n",
       "    </tr>\n",
       "  </thead>\n",
       "  <tbody>\n",
       "  </tbody>\n",
       "</table>\n",
       "</div>"
      ],
      "text/plain": [
       "Empty DataFrame\n",
       "Columns: [Missing Values, % of Total Values]\n",
       "Index: []"
      ]
     },
     "execution_count": 7,
     "metadata": {},
     "output_type": "execute_result"
    }
   ],
   "source": [
    "missing_values_table(df)"
   ]
  },
  {
   "cell_type": "code",
   "execution_count": 8,
   "metadata": {},
   "outputs": [],
   "source": [
    "X = df.drop('Ready_Biodeg', axis=1)\n",
    "y = df['Ready_Biodeg']"
   ]
  },
  {
   "cell_type": "code",
   "execution_count": 9,
   "metadata": {},
   "outputs": [],
   "source": [
    "trainX, testX, trainY, testY = train_test_split(X, y, test_size = 0.2)"
   ]
  },
  {
   "cell_type": "code",
   "execution_count": 10,
   "metadata": {},
   "outputs": [],
   "source": [
    "dt_params = {\n",
    "    'criterion': 'entropy',\n",
    "    'random_state': 11\n",
    "}\n",
    "dt = DecisionTreeClassifier(**dt_params)\n"
   ]
  },
  {
   "cell_type": "code",
   "execution_count": 11,
   "metadata": {},
   "outputs": [],
   "source": [
    "dt.fit(trainX, trainY)\n",
    "dt_preds_train = dt.predict(trainX)\n",
    "dt_preds_test = dt.predict(testX)"
   ]
  },
  {
   "cell_type": "code",
   "execution_count": 12,
   "metadata": {},
   "outputs": [
    {
     "name": "stdout",
     "output_type": "stream",
     "text": [
      "Decision Tree:\n",
      "> Accuracy on training data = 1.0000\n",
      "> Accuracy on test data = 0.6944\n"
     ]
    }
   ],
   "source": [
    "print('Decision Tree:\\n> Accuracy on training data = {:.4f}\\n> Accuracy on test data = {:.4f}'.format(\n",
    "    accuracy_score(trainY, dt_preds_train),\n",
    "    accuracy_score(testY, dt_preds_test)\n",
    "))"
   ]
  },
  {
   "cell_type": "code",
   "execution_count": 13,
   "metadata": {},
   "outputs": [],
   "source": [
    "bc_params = {\n",
    "    'base_estimator': dt,\n",
    "    'n_estimators': 50,\n",
    "    'max_samples': 0.5,\n",
    "    'random_state': 11,\n",
    "    'n_jobs': -1\n",
    "}\n",
    "bc = BaggingClassifier(**bc_params)"
   ]
  },
  {
   "cell_type": "code",
   "execution_count": 14,
   "metadata": {},
   "outputs": [],
   "source": [
    "bc.fit(trainX, trainY)\n",
    "bc_preds_train = bc.predict(trainX)\n",
    "bc_preds_test = bc.predict(testX)"
   ]
  },
  {
   "cell_type": "code",
   "execution_count": 15,
   "metadata": {},
   "outputs": [
    {
     "name": "stdout",
     "output_type": "stream",
     "text": [
      "Bagging Classifier:\n",
      "> Accuracy on training data = 0.9621\n",
      "> Accuracy on test data = 0.7809\n"
     ]
    }
   ],
   "source": [
    "print('Bagging Classifier:\\n> Accuracy on training data = {:.4f}\\n> Accuracy on test data = {:.4f}'.format(\n",
    "    accuracy_score(trainY, bc_preds_train),\n",
    "    accuracy_score(testY, bc_preds_test)\n",
    "))"
   ]
  },
  {
   "cell_type": "code",
   "execution_count": 16,
   "metadata": {},
   "outputs": [],
   "source": [
    "rf_params = {\n",
    "    'n_estimators': 100,\n",
    "    'criterion': 'entropy',\n",
    "    'max_features': 0.5,\n",
    "    'min_samples_leaf': 10,\n",
    "    'random_state': 11,\n",
    "    'n_jobs': -1\n",
    "}\n",
    "rf = RandomForestClassifier(**rf_params)"
   ]
  },
  {
   "cell_type": "code",
   "execution_count": 17,
   "metadata": {},
   "outputs": [],
   "source": [
    "rf.fit(trainX, trainY)\n",
    "rf_preds_train = rf.predict(trainX)\n",
    "rf_preds_test = rf.predict(testX)"
   ]
  },
  {
   "cell_type": "code",
   "execution_count": 18,
   "metadata": {},
   "outputs": [
    {
     "name": "stdout",
     "output_type": "stream",
     "text": [
      "Random Forest Classifier:\n",
      "> Accuracy on training data = 0.9164\n",
      "> Accuracy on test data = 0.7901\n"
     ]
    }
   ],
   "source": [
    "print('Random Forest Classifier:\\n> Accuracy on training data = {:.4f}\\n> Accuracy on test data = {:.4f}'.format(\n",
    "    accuracy_score(trainY, rf_preds_train),\n",
    "    accuracy_score(testY, rf_preds_test)\n",
    "))"
   ]
  },
  {
   "cell_type": "code",
   "execution_count": 19,
   "metadata": {},
   "outputs": [],
   "source": [
    "X = df.drop('Ready_Biodeg', axis=1).values\n",
    "y = df['Ready_Biodeg'].values"
   ]
  },
  {
   "cell_type": "code",
   "execution_count": 20,
   "metadata": {},
   "outputs": [],
   "source": [
    "skf = StratifiedKFold(n_splits=10)"
   ]
  },
  {
   "cell_type": "code",
   "execution_count": 21,
   "metadata": {},
   "outputs": [],
   "source": [
    "scores = []"
   ]
  },
  {
   "cell_type": "code",
   "execution_count": 22,
   "metadata": {},
   "outputs": [],
   "source": [
    "for train_index, test_index in skf.split(X, y):\n",
    "    x_train, x_test = X[train_index], X[test_index]\n",
    "    y_train, y_test = y[train_index], y[test_index]\n",
    "    \n",
    "    rf_skf = RandomForestClassifier(**rf.get_params())\n",
    "    \n",
    "    rf_skf.fit(x_train, y_train)\n",
    "    y_pred = rf_skf.predict(x_test)\n",
    "    \n",
    "    scores.append(accuracy_score(y_test, y_pred))"
   ]
  },
  {
   "cell_type": "code",
   "execution_count": 23,
   "metadata": {},
   "outputs": [
    {
     "data": {
      "text/plain": [
       "[0.7592592592592593,\n",
       " 0.7716049382716049,\n",
       " 0.8024691358024691,\n",
       " 0.8950617283950617,\n",
       " 0.7469135802469136,\n",
       " 0.7962962962962963,\n",
       " 0.8260869565217391,\n",
       " 0.7577639751552795,\n",
       " 0.7888198757763976,\n",
       " 0.7453416149068323]"
      ]
     },
     "execution_count": 23,
     "metadata": {},
     "output_type": "execute_result"
    }
   ],
   "source": [
    "scores"
   ]
  },
  {
   "cell_type": "code",
   "execution_count": 24,
   "metadata": {},
   "outputs": [
    {
     "name": "stdout",
     "output_type": "stream",
     "text": [
      "StratifiedKFold: Mean Accuracy Score = 0.7889617360631853\n"
     ]
    }
   ],
   "source": [
    "print('StratifiedKFold: Mean Accuracy Score = {}'.format(np.mean(scores)))"
   ]
  },
  {
   "cell_type": "code",
   "execution_count": 25,
   "metadata": {},
   "outputs": [
    {
     "data": {
      "text/plain": [
       "array([0.77606178, 0.76447876, 0.82945736, 0.76356589, 0.79457364])"
      ]
     },
     "execution_count": 25,
     "metadata": {},
     "output_type": "execute_result"
    }
   ],
   "source": [
    "scores = cross_val_score(rf, trainX, trainY, cv=5)\n",
    "scores"
   ]
  },
  {
   "cell_type": "code",
   "execution_count": 26,
   "metadata": {},
   "outputs": [
    {
     "name": "stdout",
     "output_type": "stream",
     "text": [
      "KFold: Mean Accuracy Score = 0.7856274879530694\n"
     ]
    }
   ],
   "source": [
    "print('KFold: Mean Accuracy Score = {}'.format(np.mean(scores)))"
   ]
  },
  {
   "cell_type": "code",
   "execution_count": 27,
   "metadata": {},
   "outputs": [],
   "source": [
    "rf_rand = RandomForestClassifier()"
   ]
  },
  {
   "cell_type": "code",
   "execution_count": 28,
   "metadata": {},
   "outputs": [],
   "source": [
    "param_dist = {\"n_estimators\": list(range(10,210,10)),\n",
    "              \"max_depth\": list(range(3,20)),\n",
    "              \"max_features\": list(range(1, 10)),\n",
    "              \"min_samples_split\": list(range(2, 11)),\n",
    "              \"bootstrap\": [True, False],\n",
    "              \"criterion\": [\"gini\", \"entropy\"]}\n",
    "              \n",
    "n_iter_search = 50"
   ]
  },
  {
   "cell_type": "code",
   "execution_count": 29,
   "metadata": {},
   "outputs": [
    {
     "data": {
      "text/plain": [
       "RandomizedSearchCV(cv=None, error_score=nan,\n",
       "                   estimator=RandomForestClassifier(bootstrap=True,\n",
       "                                                    ccp_alpha=0.0,\n",
       "                                                    class_weight=None,\n",
       "                                                    criterion='gini',\n",
       "                                                    max_depth=None,\n",
       "                                                    max_features='auto',\n",
       "                                                    max_leaf_nodes=None,\n",
       "                                                    max_samples=None,\n",
       "                                                    min_impurity_decrease=0.0,\n",
       "                                                    min_impurity_split=None,\n",
       "                                                    min_samples_leaf=1,\n",
       "                                                    min_samples_split=2,\n",
       "                                                    min_weight_fraction_leaf=0.0,\n",
       "                                                    n_estimators=100,\n",
       "                                                    n_j...\n",
       "                                        'criterion': ['gini', 'entropy'],\n",
       "                                        'max_depth': [3, 4, 5, 6, 7, 8, 9, 10,\n",
       "                                                      11, 12, 13, 14, 15, 16,\n",
       "                                                      17, 18, 19],\n",
       "                                        'max_features': [1, 2, 3, 4, 5, 6, 7, 8,\n",
       "                                                         9],\n",
       "                                        'min_samples_split': [2, 3, 4, 5, 6, 7,\n",
       "                                                              8, 9, 10],\n",
       "                                        'n_estimators': [10, 20, 30, 40, 50, 60,\n",
       "                                                         70, 80, 90, 100, 110,\n",
       "                                                         120, 130, 140, 150,\n",
       "                                                         160, 170, 180, 190,\n",
       "                                                         200]},\n",
       "                   pre_dispatch='2*n_jobs', random_state=None, refit=True,\n",
       "                   return_train_score=False, scoring='accuracy', verbose=0)"
      ]
     },
     "execution_count": 29,
     "metadata": {},
     "output_type": "execute_result"
    }
   ],
   "source": [
    "random_search = RandomizedSearchCV(rf_rand, param_distributions=param_dist, scoring='accuracy',\n",
    "                                   n_iter=n_iter_search)\n",
    "random_search.fit(trainX, trainY)"
   ]
  },
  {
   "cell_type": "code",
   "execution_count": 30,
   "metadata": {},
   "outputs": [
    {
     "name": "stdout",
     "output_type": "stream",
     "text": [
      "Best number of estimators: 70\n",
      "Best min_samples_split: 11\n"
     ]
    }
   ],
   "source": [
    "# View best hyperparameters\n",
    "print('Best number of estimators:', random_search.best_estimator_.get_params()['n_estimators'])\n",
    "print('Best min_samples_split:', random_search.best_estimator_.get_params()['max_depth'])"
   ]
  },
  {
   "cell_type": "code",
   "execution_count": 31,
   "metadata": {},
   "outputs": [
    {
     "data": {
      "text/plain": [
       "{'n_estimators': 70,\n",
       " 'min_samples_split': 8,\n",
       " 'max_features': 5,\n",
       " 'max_depth': 11,\n",
       " 'criterion': 'entropy',\n",
       " 'bootstrap': True}"
      ]
     },
     "execution_count": 31,
     "metadata": {},
     "output_type": "execute_result"
    }
   ],
   "source": [
    "random_search.best_params_"
   ]
  },
  {
   "cell_type": "code",
   "execution_count": 32,
   "metadata": {},
   "outputs": [
    {
     "name": "stdout",
     "output_type": "stream",
     "text": [
      "Model rank: 1\n",
      "Mean validation score: 0.802 (std: 0.021)\n",
      "Model Hyperparameters: {'n_estimators': 70, 'min_samples_split': 8, 'max_features': 5, 'max_depth': 11, 'criterion': 'entropy', 'bootstrap': True}\n",
      "\n",
      "Model rank: 2\n",
      "Mean validation score: 0.798 (std: 0.018)\n",
      "Model Hyperparameters: {'n_estimators': 90, 'min_samples_split': 5, 'max_features': 3, 'max_depth': 18, 'criterion': 'gini', 'bootstrap': True}\n",
      "\n",
      "Model rank: 3\n",
      "Mean validation score: 0.796 (std: 0.018)\n",
      "Model Hyperparameters: {'n_estimators': 80, 'min_samples_split': 8, 'max_features': 7, 'max_depth': 16, 'criterion': 'entropy', 'bootstrap': True}\n",
      "\n",
      "Model rank: 4\n",
      "Mean validation score: 0.795 (std: 0.019)\n",
      "Model Hyperparameters: {'n_estimators': 140, 'min_samples_split': 10, 'max_features': 8, 'max_depth': 15, 'criterion': 'gini', 'bootstrap': True}\n",
      "\n",
      "Model rank: 5\n",
      "Mean validation score: 0.795 (std: 0.019)\n",
      "Model Hyperparameters: {'n_estimators': 200, 'min_samples_split': 7, 'max_features': 6, 'max_depth': 17, 'criterion': 'entropy', 'bootstrap': True}\n",
      "\n"
     ]
    }
   ],
   "source": [
    "results = pd.DataFrame(random_search.cv_results_).sort_values('rank_test_score')\n",
    "for i, row in results.head().iterrows():\n",
    "    print(\"Model rank: {}\".format(row.rank_test_score))\n",
    "    print(\"Mean validation score: {:.3f} (std: {:.3f})\".format(row.mean_test_score, row.std_test_score))\n",
    "    print(\"Model Hyperparameters: {}\\n\".format(row.params))"
   ]
  },
  {
   "cell_type": "code",
   "execution_count": 33,
   "metadata": {},
   "outputs": [],
   "source": [
    "feat_imps = pd.DataFrame({'importance': rf.feature_importances_}, index=df.columns[:-1])\n",
    "feat_imps.sort_values(by='importance', ascending=False, inplace=True)"
   ]
  },
  {
   "cell_type": "code",
   "execution_count": 34,
   "metadata": {},
   "outputs": [
    {
     "data": {
      "text/plain": [
       "<matplotlib.axes._subplots.AxesSubplot at 0x20470e73708>"
      ]
     },
     "execution_count": 34,
     "metadata": {},
     "output_type": "execute_result"
    },
    {
     "data": {
      "image/png": "[encoded data removed]",
      "text/plain": [
       "<Figure size 720x504 with 1 Axes>"
      ]
     },
     "metadata": {
      "needs_background": "light"
     },
     "output_type": "display_data"
    }
   ],
   "source": [
    "feat_imps.plot(kind='bar', figsize=(10,7))"
   ]
  },
  {
   "cell_type": "code",
   "execution_count": null,
   "metadata": {},
   "outputs": [],
   "source": []
  }
 ],
 "metadata": {
  "kernelspec": {
   "display_name": "Python 3",
   "language": "python",
   "name": "python3"
  },
  "language_info": {
   "codemirror_mode": {
    "name": "ipython",
    "version": 3
   },
   "file_extension": ".py",
   "mimetype": "text/x-python",
   "name": "python",
   "nbconvert_exporter": "python",
   "pygments_lexer": "ipython3",
   "version": "3.7.6"
  },
  "toc": {
   "base_numbering": 1,
   "nav_menu": {
    "height": "55px",
    "width": "402px"
   },
   "number_sections": true,
   "sideBar": false,
   "skip_h1_title": false,
   "title_cell": "Table of Contents",
   "title_sidebar": "Contents",
   "toc_cell": false,
   "toc_position": {},
   "toc_section_display": true,
   "toc_window_display": false
  }
 },
 "nbformat": 4,
 "nbformat_minor": 4
}

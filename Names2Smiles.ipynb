{
 "cells": [
  {
   "cell_type": "code",
   "execution_count": 1,
   "metadata": {},
   "outputs": [
    {
     "data": {
      "text/plain": [
       "'C:\\\\Users\\\\us16120\\\\Projects\\\\Cheminformatyka'"
      ]
     },
     "execution_count": 1,
     "metadata": {},
     "output_type": "execute_result"
    }
   ],
   "source": [
    "import os\n",
    "os.getcwd()"
   ]
  },
  {
   "cell_type": "code",
   "execution_count": 2,
   "metadata": {},
   "outputs": [],
   "source": [
    "import pandas as pd\n",
    "from urllib.request import urlopen"
   ]
  },
  {
   "cell_type": "code",
   "execution_count": 3,
   "metadata": {},
   "outputs": [],
   "source": [
    "def CIRconvert(ids):\n",
    "    try:\n",
    "        url = 'http://cactus.nci.nih.gov/chemical/structure/' + ids + '/smiles'\n",
    "        ans = urlopen(url).read().decode('utf8')\n",
    "        return ans\n",
    "    except:\n",
    "        return 'Did not work'"
   ]
  },
  {
   "cell_type": "code",
   "execution_count": 4,
   "metadata": {},
   "outputs": [],
   "source": [
    "df = pd.read_excel('data/Solubility_Challenge_Dataset.xlsx')"
   ]
  },
  {
   "cell_type": "code",
   "execution_count": 5,
   "metadata": {},
   "outputs": [
    {
     "name": "stdout",
     "output_type": "stream",
     "text": [
      "meclizine Cc1cccc(CN2CCN(CC2)C(c3ccccc3)c4ccc(Cl)cc4)c1\n",
      "5-bromo-2,4-dihydroxybenzoicacid OC(=O)c1cc(Br)c(O)cc1O\n",
      "5-bromo-2-4-dihydroxybenzoicacid Did not work\n",
      "2-amino-5-bromobenzoicacid Nc1ccc(Br)cc1C(O)=O\n",
      "4-hydroxybenzoicacid OC(=O)c1ccc(O)cc1\n",
      "flufenamic acid Did not work\n"
     ]
    }
   ],
   "source": [
    "identifiers  = ['meclizine', '5-bromo-2,4-dihydroxybenzoicacid', '5-bromo-2-4-dihydroxybenzoicacid',\n",
    "               '2-amino-5-bromobenzoicacid', '4-hydroxybenzoicacid', 'flufenamic acid']\n",
    "\n",
    "for ids in identifiers :\n",
    "    print(ids, CIRconvert(ids))"
   ]
  },
  {
   "cell_type": "code",
   "execution_count": 6,
   "metadata": {},
   "outputs": [],
   "source": [
    "identifiers = df.iloc[ : , 0].tolist()"
   ]
  },
  {
   "cell_type": "code",
   "execution_count": 7,
   "metadata": {},
   "outputs": [
    {
     "name": "stdout",
     "output_type": "stream",
     "text": [
      "1-naphthol Oc1cccc2ccccc12\n",
      "2-amino-5-bromobenzoicacid Nc1ccc(Br)cc1C(O)=O\n",
      "4-iodophenol Oc1ccc(I)cc1\n",
      "5-bromo-2,4-dihydroxybenzoicacid OC(=O)c1cc(Br)c(O)cc1O\n",
      "acetaminophen CC(=O)Nc1ccc(O)cc1\n",
      "acetazolamide CC(=O)Nc1sc(nn1)[S](N)(=O)=O\n",
      "alprenolol [H+].[Cl-].CC(C)NCC(O)COc1ccccc1CC=C\n",
      "amantadine [Cl-].NC12CC3CC(CC(C3)C1)C2.[H+]\n",
      "amiodarone CCCCc1oc2ccccc2c1C(=O)c3cc(I)c(OCCN(CC)CC)c(I)c3\n",
      "amitriptyline CN(C)CCC=C1c2ccccc2CCc3ccccc13\n",
      "amodiaquine CCN(CC)Cc1cc(Nc2ccnc3cc(Cl)ccc23)ccc1O\n",
      "atropine CN1C2CCC1CC(C2)OC(=O)C(CO)c3ccccc3\n",
      "azathioprine Cn1cnc(c1Sc2ncnc3nc[nH]c23)[N+]([O-])=O\n",
      "benzylimidazole C(c1[nH]ccn1)c2ccccc2\n",
      "5-bromogramine CN(C)Cc1c[nH]c2ccc(Br)cc12\n",
      "bupivacaine CCCCN1CCCCC1C(=O)Nc2c(C)cccc2C\n",
      "carprofen CC(C(O)=O)c1ccc2c([nH]c3ccc(Cl)cc23)c1\n",
      "carvedilol COc1ccccc1OCCNCC(O)COc2cccc3[nH]c4ccccc4c23\n",
      "cephalothin CC(=O)OCC1=C(N2[C@H](SC1)[C@H](NC(=O)Cc3sccc3)C2=O)C(O)=O\n",
      "chlorpheniramine CN(C)CCC(c1ccc(Cl)cc1)c2ccccn2.OC(=O)\\C=C/C(O)=O\n",
      "chlorpromazine CN(C)CCCN1c2ccccc2Sc3ccc(Cl)cc13\n",
      "chlorpropamide CCCNC(=O)N[S](=O)(=O)c1ccc(Cl)cc1\n",
      "chlorprothixene CN(C)CC\\C=C/1c2ccccc2Sc3ccc(Cl)cc13\n",
      "chlorzoxazone Clc1ccc2OC(=O)Nc2c1\n",
      "cimetidine CN=C(NCCSCc1nc[nH]c1C)NC#N\n",
      "ciprofloxacin OC(=O)C1=CN(C2CC2)c3cc(N4CCNCC4)c(F)cc3C1=O\n",
      "danofloxacin CN1C[C@@H]2C[C@H]1CN2c3cc4N(C=C(C(O)=O)C(=O)c4cc3F)C5CC5\n",
      "deprenyl [Cl-].C[C@H](Cc1ccccc1)N(C)CC#C.[H+]\n",
      "desipramine CNCCCN1c2ccccc2CCc3ccccc13\n",
      "diazoxide CC1=N[S](=O)(=O)c2cc(Cl)ccc2N1\n",
      "diclofenac OC(=O)Cc1ccccc1Nc2c(Cl)cccc2Cl\n",
      "difloxacin CN1CCN(CC1)c2cc3N(C=C(C(O)=O)C(=O)c3cc2F)c4ccc(F)cc4\n",
      "diltiazem COc1ccc(cc1)[C@@H]2Sc3ccccc3N(CCN(C)C)C(=O)[C@@H]2OC(C)=O\n",
      "diphenhydramine CN(C)CCOC(c1ccccc1)c2ccccc2\n",
      "5,5-diphenylhydantoin O=C1NC(=O)C(N1)(c2ccccc2)c3ccccc3\n",
      "enrofloxacin CCN1CCN(CC1)c2cc3N(C=C(C(O)=O)C(=O)c3cc2F)C4CC4\n",
      "famotidine NC(N)=Nc1scc(CSCCC(N)=N[S](N)(=O)=O)n1\n",
      "fenoprofen CC(C(O)=O)c1cccc(Oc2ccccc2)c1\n",
      "flufenamic acid Did not work\n",
      "flumequine CC1CCc2cc(F)cc3C(=O)C(=CN1c23)C(O)=O\n",
      "flurbiprofen CC(C(O)=O)c1ccc(c(F)c1)c2ccccc2\n",
      "glipizide Cc1cnc(cn1)C(=O)NCCc2ccc(cc2)[S](=O)(=O)NC(=O)NC3CCCCC3\n",
      "guanine NC1=Nc2nc[nH]c2C(=O)N1\n",
      "hexobarbital CN1C(=O)NC(=O)C(C)(C1=O)C2=CCCCC2\n",
      "hydroflumethiazide N[S](=O)(=O)c1cc2c(NCN[S]2(=O)=O)cc1C(F)(F)F\n",
      "4-hydroxybenzoicacid OC(=O)c1ccc(O)cc1\n",
      "ibuprofen CC(C)Cc1ccc(cc1)C(C)C(O)=O\n",
      "lomefloxacin CCN1C=C(C(O)=O)C(=O)c2cc(F)c(N3CCNC(C)C3)c(F)c12\n",
      "loperamide CN(C)C(=O)C(CCN1CCC(O)(CC1)c2ccc(Cl)cc2)(c3ccccc3)c4ccccc4\n",
      "maprotiline CNCCCC12CCC(c3ccccc13)c4ccccc24\n",
      "meclizine Cc1cccc(CN2CCN(CC2)C(c3ccccc3)c4ccc(Cl)cc4)c1\n",
      "mefenamic acid Did not work\n",
      "metoclopramide CCN(CC)CCNC(=O)c1cc(Cl)c(N)cc1OC\n",
      "metronidazole Cc1ncc(n1CCO)[N+]([O-])=O\n",
      "miconazole Clc1ccc(COC(Cn2ccnc2)c3ccc(Cl)cc3Cl)c(Cl)c1\n",
      "nalidixic acid Did not work\n",
      "naloxone Oc1ccc2C[C@H]3N(CC[C@@]45[C@@H](Oc1c24)C(=O)CC[C@@]35O)CC=C\n",
      "naproxen COc1ccc2cc(ccc2c1)C(C)C(O)=O\n",
      "niflumic acid Did not work\n",
      "nitrofurantoin [O-][N+](=O)c1oc(cc1)/C=N/N2CC(=O)NC2=O\n",
      "norfloxacin CCN1C=C(C(O)=O)C(=O)c2cc(F)c(cc12)N3CCNCC3\n",
      "nortriptyline CNCCC=C1c2ccccc2CCc3ccccc13\n",
      "ofloxacin CC1COc2c(N3CCN(C)CC3)c(F)cc4C(=O)C(=CN1c24)C(O)=O\n",
      "oxytetracycline O.O.CN(C)[C@H]1[C@@H]2[C@@H](O)[C@H]3C(=C(O)c4c(O)cccc4[C@@]3(C)O)C(=O)[C@]2(O)C(=O)\\C(=C(N)/O)C1=O\n",
      "papaverine COc1ccc(Cc2nccc3cc(OC)c(OC)cc23)cc1OC\n",
      "phenanthroline c1cnc2c(c1)ccc3ncccc23\n",
      "phenazopyridine Nc1ccc(N=Nc2ccccc2)c(N)n1\n",
      "phenobarbital CCC1(C(=O)NC(=O)NC1=O)c2ccccc2\n",
      "phenylbutazone CCCCC1C(=O)N(N(C1=O)c2ccccc2)c3ccccc3\n",
      "phthalic acid Did not work\n",
      "pindolol CC(C)NCC(O)COc1cccc2[nH]ccc12\n",
      "piroxicam CN1C(=C(/O)Nc2ccccn2)/C(=O)c3ccccc3[S]1(=O)=O\n",
      "procaine CCN(CC)CCOC(=O)c1ccc(N)cc1\n",
      "propranolol CC(C)NCC(O)COc1cccc2ccccc12\n",
      "quinine COc1ccc2nccc([C@@H](O)[C@@H]3C[C@H]4CCN3C[C@@H]4C=C)c2c1\n",
      "ranitidine CNC(/NCCSCc1oc(CN(C)C)cc1)=C\\[N+]([O-])=O\n",
      "sarafloxacin OC(=O)C1=CN(c2ccc(F)cc2)c3cc(N4CCNCC4)c(F)cc3C1=O\n",
      "sertraline [Cl-].CN[C@H]1CC[C@@H](c2ccc(Cl)c(Cl)c2)c3ccccc13.[H+]\n",
      "sparfloxacin C[C@H]1CN(C[C@@H](C)N1)c2c(F)c(N)c3C(=O)C(=CN(C4CC4)c3c2F)C(O)=O\n",
      "sulfacetamide CC(=O)N[S](=O)(=O)c1ccc(N)cc1\n",
      "sulfamethazine Cc1cc(C)nc(N[S](=O)(=O)c2ccc(N)cc2)n1\n",
      "sulfasalazine OC(=O)C1=C\\C(C=CC1=O)=N/Nc2ccc(cc2)[S](=O)(=O)Nc3ccccn3\n",
      "sulfathiazole Nc1ccc(cc1)[S](=O)(=O)Nc2sccn2\n",
      "sulindac CC\\1=C(CC(O)=O)c2cc(F)ccc2C1=C\\c3ccc(cc3)[S](C)=O\n",
      "tetracaine CCCCNc1ccc(cc1)C(=O)OCCN(C)C\n",
      "tetracycline CN(C)[C@H]1[C@@H]2C[C@H]3C(=C(O)c4c(O)cccc4[C@@]3(C)O)C(=O)[C@]2(O)C(=O)\\C(=C(N)/O)C1=O\n",
      "thymol CC(C)c1ccc(C)cc1O\n",
      "tolmetin Cn1c(CC(O)=O)ccc1C(=O)c2ccc(C)cc2\n",
      "trichloromethiazide N[S](=O)(=O)c1cc2c(NC(N[S]2(=O)=O)C(Cl)Cl)cc1Cl\n",
      "trimethoprim COc1cc(Cc2cnc(N)nc2N)cc(OC)c1OC\n",
      "trimipramine CC(CN(C)C)CN1c2ccccc2CCc3ccccc13\n",
      "tryptamine NCCc1c[nH]c2ccccc12\n",
      "verapamil COc1ccc(CCN(C)CCCC(C#N)(C(C)C)c2ccc(OC)c(OC)c2)cc1OC\n",
      "warfarin CC(=O)CC(c1ccccc1)C2=C(O)Oc3ccccc3C2=O\n"
     ]
    }
   ],
   "source": [
    "for ids in identifiers :\n",
    "    print(ids, CIRconvert(ids))"
   ]
  },
  {
   "cell_type": "code",
   "execution_count": null,
   "metadata": {},
   "outputs": [],
   "source": []
  }
 ],
 "metadata": {
  "kernelspec": {
   "display_name": "Python 3",
   "language": "python",
   "name": "python3"
  },
  "language_info": {
   "codemirror_mode": {
    "name": "ipython",
    "version": 3
   },
   "file_extension": ".py",
   "mimetype": "text/x-python",
   "name": "python",
   "nbconvert_exporter": "python",
   "pygments_lexer": "ipython3",
   "version": "3.7.6"
  },
  "toc": {
   "base_numbering": 1,
   "nav_menu": {},
   "number_sections": true,
   "sideBar": false,
   "skip_h1_title": false,
   "title_cell": "Table of Contents",
   "title_sidebar": "Contents",
   "toc_cell": false,
   "toc_position": {},
   "toc_section_display": true,
   "toc_window_display": false
  }
 },
 "nbformat": 4,
 "nbformat_minor": 4
}

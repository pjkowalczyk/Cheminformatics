{
 "cells": [
  {
   "cell_type": "markdown",
   "metadata": {},
   "source": [
    "### Import libraries"
   ]
  },
  {
   "cell_type": "code",
   "execution_count": 1,
   "metadata": {},
   "outputs": [],
   "source": [
    "import pandas as pd\n",
    "import numpy as np\n",
    "import matplotlib.pyplot as plt\n",
    "import seaborn as sns\n",
    "\n",
    "from urllib.request import urlopen\n",
    "from bs4 import BeautifulSoup\n",
    "\n",
    "import json\n",
    "import pickle\n",
    "import time\n",
    "\n",
    "from rdkit import Chem\n",
    "from rdkit import DataStructs\n",
    "from rdkit.Chem import AllChem\n",
    "\n",
    "import pubchempy as pcp"
   ]
  },
  {
   "cell_type": "markdown",
   "metadata": {},
   "source": [
    "### Read data"
   ]
  },
  {
   "cell_type": "code",
   "execution_count": 2,
   "metadata": {},
   "outputs": [],
   "source": [
    "df = pd.read_excel('pesticides02.xlsx')"
   ]
  },
  {
   "cell_type": "code",
   "execution_count": 3,
   "metadata": {},
   "outputs": [
    {
     "data": {
      "text/html": [
       "<div>\n",
       "<style scoped>\n",
       "    .dataframe tbody tr th:only-of-type {\n",
       "        vertical-align: middle;\n",
       "    }\n",
       "\n",
       "    .dataframe tbody tr th {\n",
       "        vertical-align: top;\n",
       "    }\n",
       "\n",
       "    .dataframe thead th {\n",
       "        text-align: right;\n",
       "    }\n",
       "</style>\n",
       "<table border=\"1\" class=\"dataframe\">\n",
       "  <thead>\n",
       "    <tr style=\"text-align: right;\">\n",
       "      <th></th>\n",
       "      <th>PesticideID</th>\n",
       "      <th>CAS</th>\n",
       "      <th>Name</th>\n",
       "      <th>Warning</th>\n",
       "    </tr>\n",
       "  </thead>\n",
       "  <tbody>\n",
       "    <tr>\n",
       "      <th>1479</th>\n",
       "      <td>Pesticide1480</td>\n",
       "      <td>66332-96-5</td>\n",
       "      <td>flutolanil</td>\n",
       "      <td>False</td>\n",
       "    </tr>\n",
       "    <tr>\n",
       "      <th>2096</th>\n",
       "      <td>Pesticide2097</td>\n",
       "      <td>566191-89-7</td>\n",
       "      <td>aminopyralid-tripromine</td>\n",
       "      <td>False</td>\n",
       "    </tr>\n",
       "    <tr>\n",
       "      <th>900</th>\n",
       "      <td>Pesticide901</td>\n",
       "      <td>14816-18-3</td>\n",
       "      <td>phoxim</td>\n",
       "      <td>False</td>\n",
       "    </tr>\n",
       "    <tr>\n",
       "      <th>1115</th>\n",
       "      <td>Pesticide1116</td>\n",
       "      <td>28730-17-8</td>\n",
       "      <td>methfuroxam</td>\n",
       "      <td>False</td>\n",
       "    </tr>\n",
       "    <tr>\n",
       "      <th>1692</th>\n",
       "      <td>Pesticide1693</td>\n",
       "      <td>89269-64-7</td>\n",
       "      <td>ferimzone</td>\n",
       "      <td>False</td>\n",
       "    </tr>\n",
       "  </tbody>\n",
       "</table>\n",
       "</div>"
      ],
      "text/plain": [
       "        PesticideID          CAS                     Name  Warning\n",
       "1479  Pesticide1480   66332-96-5               flutolanil    False\n",
       "2096  Pesticide2097  566191-89-7  aminopyralid-tripromine    False\n",
       "900    Pesticide901   14816-18-3                   phoxim    False\n",
       "1115  Pesticide1116   28730-17-8              methfuroxam    False\n",
       "1692  Pesticide1693   89269-64-7                ferimzone    False"
      ]
     },
     "execution_count": 3,
     "metadata": {},
     "output_type": "execute_result"
    }
   ],
   "source": [
    "df.sample(5).head()"
   ]
  },
  {
   "cell_type": "markdown",
   "metadata": {},
   "source": [
    "### Retrieve SMILES, based on CAS registry numbers"
   ]
  },
  {
   "cell_type": "markdown",
   "metadata": {},
   "source": [
    "#### Using the National Cancer Institute's CADD Group cheminformatics tools"
   ]
  },
  {
   "cell_type": "code",
   "execution_count": 4,
   "metadata": {},
   "outputs": [
    {
     "name": "stdout",
     "output_type": "stream",
     "text": [
      "1057.4930028915405\n"
     ]
    }
   ],
   "source": [
    "t0 = time.time()\n",
    "\n",
    "for index, row in df.iterrows():\n",
    "    try:\n",
    "        url = \"https://cactus.nci.nih.gov/chemical/structure/\"+row['CAS']+\"/smiles\"\n",
    "        html = urlopen(url)\n",
    "        soup = BeautifulSoup(html, 'html')\n",
    "        smi = soup.get_text()\n",
    "        df.loc[index, 'SMILES'] = smi\n",
    "    except:\n",
    "        df.loc[index, 'SMILES'] = 'None'\n",
    "        \n",
    "t1 = time.time()\n",
    "elapsed = t1-t0\n",
    "print(elapsed)"
   ]
  },
  {
   "cell_type": "code",
   "execution_count": 5,
   "metadata": {},
   "outputs": [
    {
     "data": {
      "text/html": [
       "<div>\n",
       "<style scoped>\n",
       "    .dataframe tbody tr th:only-of-type {\n",
       "        vertical-align: middle;\n",
       "    }\n",
       "\n",
       "    .dataframe tbody tr th {\n",
       "        vertical-align: top;\n",
       "    }\n",
       "\n",
       "    .dataframe thead th {\n",
       "        text-align: right;\n",
       "    }\n",
       "</style>\n",
       "<table border=\"1\" class=\"dataframe\">\n",
       "  <thead>\n",
       "    <tr style=\"text-align: right;\">\n",
       "      <th></th>\n",
       "      <th>PesticideID</th>\n",
       "      <th>CAS</th>\n",
       "      <th>Name</th>\n",
       "      <th>Warning</th>\n",
       "      <th>SMILES</th>\n",
       "    </tr>\n",
       "  </thead>\n",
       "  <tbody>\n",
       "    <tr>\n",
       "      <th>26</th>\n",
       "      <td>Pesticide27</td>\n",
       "      <td>57-74-9</td>\n",
       "      <td>chlordane</td>\n",
       "      <td>False</td>\n",
       "      <td>ClC1CC2C(C1Cl)C3(Cl)C(=C(Cl)C2(Cl)C3(Cl)Cl)Cl</td>\n",
       "    </tr>\n",
       "    <tr>\n",
       "      <th>93</th>\n",
       "      <td>Pesticide94</td>\n",
       "      <td>85-00-7</td>\n",
       "      <td>diquat dibromide</td>\n",
       "      <td>False</td>\n",
       "      <td>[Br-].[Br-].C1C[n+]2ccccc2c3cccc[n+]13</td>\n",
       "    </tr>\n",
       "    <tr>\n",
       "      <th>235</th>\n",
       "      <td>Pesticide236</td>\n",
       "      <td>135-58-0</td>\n",
       "      <td>mesulfen</td>\n",
       "      <td>False</td>\n",
       "      <td>Cc1ccc2Sc3ccc(C)cc3Sc2c1</td>\n",
       "    </tr>\n",
       "    <tr>\n",
       "      <th>1847</th>\n",
       "      <td>Pesticide1848</td>\n",
       "      <td>122453-73-0</td>\n",
       "      <td>chlorfenapyr</td>\n",
       "      <td>False</td>\n",
       "      <td>CCOCn1c(c2ccc(Cl)cc2)c(C#N)c(Br)c1C(F)(F)F</td>\n",
       "    </tr>\n",
       "    <tr>\n",
       "      <th>1735</th>\n",
       "      <td>Pesticide1736</td>\n",
       "      <td>99485-76-4</td>\n",
       "      <td>cumyluron</td>\n",
       "      <td>False</td>\n",
       "      <td>None</td>\n",
       "    </tr>\n",
       "  </tbody>\n",
       "</table>\n",
       "</div>"
      ],
      "text/plain": [
       "        PesticideID          CAS              Name  Warning  \\\n",
       "26      Pesticide27      57-74-9         chlordane    False   \n",
       "93      Pesticide94      85-00-7  diquat dibromide    False   \n",
       "235    Pesticide236     135-58-0          mesulfen    False   \n",
       "1847  Pesticide1848  122453-73-0      chlorfenapyr    False   \n",
       "1735  Pesticide1736   99485-76-4         cumyluron    False   \n",
       "\n",
       "                                             SMILES  \n",
       "26    ClC1CC2C(C1Cl)C3(Cl)C(=C(Cl)C2(Cl)C3(Cl)Cl)Cl  \n",
       "93           [Br-].[Br-].C1C[n+]2ccccc2c3cccc[n+]13  \n",
       "235                        Cc1ccc2Sc3ccc(C)cc3Sc2c1  \n",
       "1847     CCOCn1c(c2ccc(Cl)cc2)c(C#N)c(Br)c1C(F)(F)F  \n",
       "1735                                           None  "
      ]
     },
     "execution_count": 5,
     "metadata": {},
     "output_type": "execute_result"
    }
   ],
   "source": [
    "df.sample(5).head()"
   ]
  },
  {
   "cell_type": "markdown",
   "metadata": {},
   "source": [
    "#### Using the National Library of Medicine's data tools"
   ]
  },
  {
   "cell_type": "code",
   "execution_count": 6,
   "metadata": {},
   "outputs": [
    {
     "name": "stdout",
     "output_type": "stream",
     "text": [
      "504.8670017719269\n"
     ]
    }
   ],
   "source": [
    "t0 = time.time()\n",
    "\n",
    "for index, row in df.iterrows():\n",
    "    try:\n",
    "        url = \"https://chem.nlm.nih.gov/api/data/structure/exact/\"+row['CAS']+\"?data=smiles\"\n",
    "        html = urlopen(url)\n",
    "        soup = BeautifulSoup(html, 'html')\n",
    "        d = json.loads(soup.get_text())\n",
    "        df.loc[index, 'nlmSMILES'] = d['results'][0]['structureDetails']['s']\n",
    "    except:\n",
    "        df.loc[index, 'nlmSMILES'] = 'None'\n",
    "        \n",
    "t1 = time.time()\n",
    "elapsed = t1-t0\n",
    "print(elapsed)"
   ]
  },
  {
   "cell_type": "code",
   "execution_count": 7,
   "metadata": {
    "scrolled": true
   },
   "outputs": [
    {
     "data": {
      "text/html": [
       "<div>\n",
       "<style scoped>\n",
       "    .dataframe tbody tr th:only-of-type {\n",
       "        vertical-align: middle;\n",
       "    }\n",
       "\n",
       "    .dataframe tbody tr th {\n",
       "        vertical-align: top;\n",
       "    }\n",
       "\n",
       "    .dataframe thead th {\n",
       "        text-align: right;\n",
       "    }\n",
       "</style>\n",
       "<table border=\"1\" class=\"dataframe\">\n",
       "  <thead>\n",
       "    <tr style=\"text-align: right;\">\n",
       "      <th></th>\n",
       "      <th>PesticideID</th>\n",
       "      <th>CAS</th>\n",
       "      <th>Name</th>\n",
       "      <th>Warning</th>\n",
       "      <th>SMILES</th>\n",
       "      <th>nlmSMILES</th>\n",
       "    </tr>\n",
       "  </thead>\n",
       "  <tbody>\n",
       "    <tr>\n",
       "      <th>987</th>\n",
       "      <td>Pesticide988</td>\n",
       "      <td>21564-17-0</td>\n",
       "      <td>benthiazole</td>\n",
       "      <td>False</td>\n",
       "      <td>N#CSCSc1sc2ccccc2n1</td>\n",
       "      <td>N#CSCSc1nc2ccccc2s1</td>\n",
       "    </tr>\n",
       "    <tr>\n",
       "      <th>89</th>\n",
       "      <td>Pesticide90</td>\n",
       "      <td>83-59-0</td>\n",
       "      <td>propyl isome</td>\n",
       "      <td>False</td>\n",
       "      <td>CCCOC(=O)C1C(C)Cc2cc3OCOc3cc2C1C(=O)OCCC</td>\n",
       "      <td>CCCOC(=O)C1c2cc3c(cc2CC(C1C(=O)OCCC)C)OCO3</td>\n",
       "    </tr>\n",
       "    <tr>\n",
       "      <th>2002</th>\n",
       "      <td>Pesticide2003</td>\n",
       "      <td>180409-60-3</td>\n",
       "      <td>cyflufenamid</td>\n",
       "      <td>False</td>\n",
       "      <td>None</td>\n",
       "      <td>Fc1ccc(c(\\C(=N\\OCC2CC2)\\NC(=O)Cc3ccccc3)c1F)C(...</td>\n",
       "    </tr>\n",
       "    <tr>\n",
       "      <th>878</th>\n",
       "      <td>Pesticide879</td>\n",
       "      <td>13684-63-4</td>\n",
       "      <td>phenmedipham</td>\n",
       "      <td>False</td>\n",
       "      <td>COC(=O)Nc1cccc(OC(=O)Nc2cccc(C)c2)c1</td>\n",
       "      <td>Cc1cccc(c1)NC(=O)Oc2cccc(c2)NC(=O)OC</td>\n",
       "    </tr>\n",
       "    <tr>\n",
       "      <th>1764</th>\n",
       "      <td>Pesticide1765</td>\n",
       "      <td>104206-82-8</td>\n",
       "      <td>mesotrione</td>\n",
       "      <td>False</td>\n",
       "      <td>C[S](=O)(=O)c1ccc(C(=O)C2C(=O)CCCC2=O)c(c1)[N+...</td>\n",
       "      <td>C1(C(C(CCC1)=O)C(c1c(cc(cc1)S(=O)(=O)C)[N+](=O...</td>\n",
       "    </tr>\n",
       "  </tbody>\n",
       "</table>\n",
       "</div>"
      ],
      "text/plain": [
       "        PesticideID          CAS          Name  Warning  \\\n",
       "987    Pesticide988   21564-17-0   benthiazole    False   \n",
       "89      Pesticide90      83-59-0  propyl isome    False   \n",
       "2002  Pesticide2003  180409-60-3  cyflufenamid    False   \n",
       "878    Pesticide879   13684-63-4  phenmedipham    False   \n",
       "1764  Pesticide1765  104206-82-8    mesotrione    False   \n",
       "\n",
       "                                                 SMILES  \\\n",
       "987                                 N#CSCSc1sc2ccccc2n1   \n",
       "89             CCCOC(=O)C1C(C)Cc2cc3OCOc3cc2C1C(=O)OCCC   \n",
       "2002                                               None   \n",
       "878                COC(=O)Nc1cccc(OC(=O)Nc2cccc(C)c2)c1   \n",
       "1764  C[S](=O)(=O)c1ccc(C(=O)C2C(=O)CCCC2=O)c(c1)[N+...   \n",
       "\n",
       "                                              nlmSMILES  \n",
       "987                                 N#CSCSc1nc2ccccc2s1  \n",
       "89           CCCOC(=O)C1c2cc3c(cc2CC(C1C(=O)OCCC)C)OCO3  \n",
       "2002  Fc1ccc(c(\\C(=N\\OCC2CC2)\\NC(=O)Cc3ccccc3)c1F)C(...  \n",
       "878                Cc1cccc(c1)NC(=O)Oc2cccc(c2)NC(=O)OC  \n",
       "1764  C1(C(C(CCC1)=O)C(c1c(cc(cc1)S(=O)(=O)C)[N+](=O...  "
      ]
     },
     "execution_count": 7,
     "metadata": {},
     "output_type": "execute_result"
    }
   ],
   "source": [
    "df.sample(5).head()"
   ]
  },
  {
   "cell_type": "markdown",
   "metadata": {},
   "source": [
    "#### Using PubChem's toolkit"
   ]
  },
  {
   "cell_type": "code",
   "execution_count": 8,
   "metadata": {},
   "outputs": [
    {
     "name": "stdout",
     "output_type": "stream",
     "text": [
      "913.698602437973\n"
     ]
    }
   ],
   "source": [
    "t0 = time.time()\n",
    "\n",
    "for index, row in df.iterrows():\n",
    "    try:\n",
    "        results = pcp.get_compounds(row['CAS'], 'name')\n",
    "        df.loc[index, 'PubChemSMILES'] = results[0].canonical_smiles\n",
    "    except:\n",
    "        df.loc[index, 'PubChemSMILES'] = 'None'\n",
    "        \n",
    "t1 = time.time()\n",
    "elapsed = t1-t0\n",
    "print(elapsed)"
   ]
  },
  {
   "cell_type": "code",
   "execution_count": 9,
   "metadata": {},
   "outputs": [
    {
     "data": {
      "text/html": [
       "<div>\n",
       "<style scoped>\n",
       "    .dataframe tbody tr th:only-of-type {\n",
       "        vertical-align: middle;\n",
       "    }\n",
       "\n",
       "    .dataframe tbody tr th {\n",
       "        vertical-align: top;\n",
       "    }\n",
       "\n",
       "    .dataframe thead th {\n",
       "        text-align: right;\n",
       "    }\n",
       "</style>\n",
       "<table border=\"1\" class=\"dataframe\">\n",
       "  <thead>\n",
       "    <tr style=\"text-align: right;\">\n",
       "      <th></th>\n",
       "      <th>PesticideID</th>\n",
       "      <th>CAS</th>\n",
       "      <th>Name</th>\n",
       "      <th>Warning</th>\n",
       "      <th>SMILES</th>\n",
       "      <th>nlmSMILES</th>\n",
       "      <th>PubChemSMILES</th>\n",
       "    </tr>\n",
       "  </thead>\n",
       "  <tbody>\n",
       "    <tr>\n",
       "      <th>2044</th>\n",
       "      <td>Pesticide2045</td>\n",
       "      <td>240494-71-7</td>\n",
       "      <td>epsilon-metofluthrin</td>\n",
       "      <td>False</td>\n",
       "      <td>None</td>\n",
       "      <td>None</td>\n",
       "      <td>CC=CC1C(C1(C)C)C(=O)OCC2=C(C(=C(C(=C2F)F)COC)F)F</td>\n",
       "    </tr>\n",
       "    <tr>\n",
       "      <th>1577</th>\n",
       "      <td>Pesticide1578</td>\n",
       "      <td>76280-91-6</td>\n",
       "      <td>tecloftalam</td>\n",
       "      <td>False</td>\n",
       "      <td>OC(=O)c1c(Cl)c(Cl)c(Cl)c(Cl)c1C(=O)Nc2cccc(Cl)...</td>\n",
       "      <td>c1(c(c(c(Cl)c(c1Cl)Cl)Cl)C(O)=O)C(Nc1c(c(ccc1)...</td>\n",
       "      <td>C1=CC(=C(C(=C1)Cl)Cl)NC(=O)C2=C(C(=C(C(=C2Cl)C...</td>\n",
       "    </tr>\n",
       "    <tr>\n",
       "      <th>2147</th>\n",
       "      <td>Pesticide2148</td>\n",
       "      <td>951659-40-8</td>\n",
       "      <td>flupyradifurone</td>\n",
       "      <td>False</td>\n",
       "      <td>None</td>\n",
       "      <td>c1cc(ncc1CN(CC(F)F)C2=CC(=O)OC2)Cl</td>\n",
       "      <td>C1C(=CC(=O)O1)N(CC2=CN=C(C=C2)Cl)CC(F)F</td>\n",
       "    </tr>\n",
       "    <tr>\n",
       "      <th>339</th>\n",
       "      <td>Pesticide340</td>\n",
       "      <td>572-48-5</td>\n",
       "      <td>coumithoate</td>\n",
       "      <td>False</td>\n",
       "      <td>CCO[P](=S)(OCC)Oc1ccc2C3=C(CCCC3)C(=O)Oc2c1</td>\n",
       "      <td>CCOP(=S)(OCC)Oc1ccc2C3=C(CCCC3)C(=O)Oc2c1</td>\n",
       "      <td>CCOP(=S)(OCC)OC1=CC2=C(C=C1)C3=C(CCCC3)C(=O)O2</td>\n",
       "    </tr>\n",
       "    <tr>\n",
       "      <th>463</th>\n",
       "      <td>Pesticide464</td>\n",
       "      <td>1786-03-4</td>\n",
       "      <td>naphthylindane-1,3-diones</td>\n",
       "      <td>False</td>\n",
       "      <td>O=C1C(C(=O)c2ccccc12)c3cccc4ccccc34</td>\n",
       "      <td>O=C1C(C(=O)c2ccccc12)c3cccc4ccccc34</td>\n",
       "      <td>C1=CC=C2C(=C1)C=CC=C2C3C(=O)C4=CC=CC=C4C3=O</td>\n",
       "    </tr>\n",
       "  </tbody>\n",
       "</table>\n",
       "</div>"
      ],
      "text/plain": [
       "        PesticideID          CAS                       Name  Warning  \\\n",
       "2044  Pesticide2045  240494-71-7       epsilon-metofluthrin    False   \n",
       "1577  Pesticide1578   76280-91-6                tecloftalam    False   \n",
       "2147  Pesticide2148  951659-40-8            flupyradifurone    False   \n",
       "339    Pesticide340     572-48-5                coumithoate    False   \n",
       "463    Pesticide464    1786-03-4  naphthylindane-1,3-diones    False   \n",
       "\n",
       "                                                 SMILES  \\\n",
       "2044                                               None   \n",
       "1577  OC(=O)c1c(Cl)c(Cl)c(Cl)c(Cl)c1C(=O)Nc2cccc(Cl)...   \n",
       "2147                                               None   \n",
       "339         CCO[P](=S)(OCC)Oc1ccc2C3=C(CCCC3)C(=O)Oc2c1   \n",
       "463                 O=C1C(C(=O)c2ccccc12)c3cccc4ccccc34   \n",
       "\n",
       "                                              nlmSMILES  \\\n",
       "2044                                               None   \n",
       "1577  c1(c(c(c(Cl)c(c1Cl)Cl)Cl)C(O)=O)C(Nc1c(c(ccc1)...   \n",
       "2147                 c1cc(ncc1CN(CC(F)F)C2=CC(=O)OC2)Cl   \n",
       "339           CCOP(=S)(OCC)Oc1ccc2C3=C(CCCC3)C(=O)Oc2c1   \n",
       "463                 O=C1C(C(=O)c2ccccc12)c3cccc4ccccc34   \n",
       "\n",
       "                                          PubChemSMILES  \n",
       "2044   CC=CC1C(C1(C)C)C(=O)OCC2=C(C(=C(C(=C2F)F)COC)F)F  \n",
       "1577  C1=CC(=C(C(=C1)Cl)Cl)NC(=O)C2=C(C(=C(C(=C2Cl)C...  \n",
       "2147            C1C(=CC(=O)O1)N(CC2=CN=C(C=C2)Cl)CC(F)F  \n",
       "339      CCOP(=S)(OCC)OC1=CC2=C(C=C1)C3=C(CCCC3)C(=O)O2  \n",
       "463         C1=CC=C2C(=C1)C=CC=C2C3C(=O)C4=CC=CC=C4C3=O  "
      ]
     },
     "execution_count": 9,
     "metadata": {},
     "output_type": "execute_result"
    }
   ],
   "source": [
    "df.sample(5).head()"
   ]
  },
  {
   "cell_type": "code",
   "execution_count": 10,
   "metadata": {},
   "outputs": [],
   "source": [
    "for index, row in df.iterrows():\n",
    "    if row['SMILES'] == 'None': df.loc[index, 'SMILES'] = df.loc[index, 'nlmSMILES']\n",
    "        \n",
    "for index, row in df.iterrows():\n",
    "    if row['SMILES'] == 'None': df.loc[index, 'SMILES'] = df.loc[index, 'PubChemSMILES']"
   ]
  },
  {
   "cell_type": "code",
   "execution_count": 11,
   "metadata": {},
   "outputs": [],
   "source": [
    "df2 = df[['PesticideID', 'CAS', 'Name', 'Warning', 'SMILES']]"
   ]
  },
  {
   "cell_type": "markdown",
   "metadata": {},
   "source": [
    "### Remove entries that do not have SMILES strings"
   ]
  },
  {
   "cell_type": "code",
   "execution_count": 12,
   "metadata": {},
   "outputs": [],
   "source": [
    "df2 = df2[df2['SMILES'] != 'None']"
   ]
  },
  {
   "cell_type": "code",
   "execution_count": 13,
   "metadata": {},
   "outputs": [
    {
     "data": {
      "text/plain": [
       "(2146, 5)"
      ]
     },
     "execution_count": 13,
     "metadata": {},
     "output_type": "execute_result"
    }
   ],
   "source": [
    "df2.shape"
   ]
  },
  {
   "cell_type": "markdown",
   "metadata": {},
   "source": [
    "### Use SMILES string to generate molecule record"
   ]
  },
  {
   "cell_type": "code",
   "execution_count": 14,
   "metadata": {},
   "outputs": [],
   "source": [
    "for index, row in df2.iterrows():\n",
    "    m = Chem.MolFromSmiles(row['SMILES'])\n",
    "    if m is not None:\n",
    "        df2.loc[index, 'ROMol'] = m\n",
    "    else:\n",
    "        df2.loc[index, 'ROMol'] = 'None'"
   ]
  },
  {
   "cell_type": "code",
   "execution_count": 15,
   "metadata": {},
   "outputs": [],
   "source": [
    "df3 = df2[df2['ROMol'] != 'None']"
   ]
  },
  {
   "cell_type": "code",
   "execution_count": 16,
   "metadata": {},
   "outputs": [
    {
     "data": {
      "text/plain": [
       "(2130, 6)"
      ]
     },
     "execution_count": 16,
     "metadata": {},
     "output_type": "execute_result"
    }
   ],
   "source": [
    "df3.shape"
   ]
  },
  {
   "cell_type": "code",
   "execution_count": 17,
   "metadata": {},
   "outputs": [
    {
     "data": {
      "text/html": [
       "<div>\n",
       "<style scoped>\n",
       "    .dataframe tbody tr th:only-of-type {\n",
       "        vertical-align: middle;\n",
       "    }\n",
       "\n",
       "    .dataframe tbody tr th {\n",
       "        vertical-align: top;\n",
       "    }\n",
       "\n",
       "    .dataframe thead th {\n",
       "        text-align: right;\n",
       "    }\n",
       "</style>\n",
       "<table border=\"1\" class=\"dataframe\">\n",
       "  <thead>\n",
       "    <tr style=\"text-align: right;\">\n",
       "      <th></th>\n",
       "      <th>PesticideID</th>\n",
       "      <th>CAS</th>\n",
       "      <th>Name</th>\n",
       "      <th>Warning</th>\n",
       "      <th>SMILES</th>\n",
       "      <th>ROMol</th>\n",
       "    </tr>\n",
       "  </thead>\n",
       "  <tbody>\n",
       "    <tr>\n",
       "      <th>1190</th>\n",
       "      <td>Pesticide1191</td>\n",
       "      <td>35554-44-0</td>\n",
       "      <td>imazalil</td>\n",
       "      <td>False</td>\n",
       "      <td>Clc1ccc(C(Cn2ccnc2)OCC=C)c(Cl)c1</td>\n",
       "      <td>&lt;rdkit.Chem.rdchem.Mol object at 0x0000000013B...</td>\n",
       "    </tr>\n",
       "    <tr>\n",
       "      <th>160</th>\n",
       "      <td>Pesticide161</td>\n",
       "      <td>107-18-6</td>\n",
       "      <td>allyl alcohol</td>\n",
       "      <td>False</td>\n",
       "      <td>OCC=C</td>\n",
       "      <td>&lt;rdkit.Chem.rdchem.Mol object at 0x0000000013D...</td>\n",
       "    </tr>\n",
       "    <tr>\n",
       "      <th>1756</th>\n",
       "      <td>Pesticide1757</td>\n",
       "      <td>103782-08-7</td>\n",
       "      <td>allosamidin</td>\n",
       "      <td>False</td>\n",
       "      <td>CN(C)C1=N[C@@H]2[C@@H](O)[C@H](O[C@@H]3O[C@H](...</td>\n",
       "      <td>&lt;rdkit.Chem.rdchem.Mol object at 0x0000000013B...</td>\n",
       "    </tr>\n",
       "    <tr>\n",
       "      <th>1932</th>\n",
       "      <td>Pesticide1933</td>\n",
       "      <td>143807-66-3</td>\n",
       "      <td>chromafenozide</td>\n",
       "      <td>False</td>\n",
       "      <td>Cc1cc(C)cc(c1)C(=O)N(NC(=O)c2ccc3OCCCc3c2C)C(C...</td>\n",
       "      <td>&lt;rdkit.Chem.rdchem.Mol object at 0x0000000013B...</td>\n",
       "    </tr>\n",
       "    <tr>\n",
       "      <th>1494</th>\n",
       "      <td>Pesticide1495</td>\n",
       "      <td>67564-91-4</td>\n",
       "      <td>fenpropimorph</td>\n",
       "      <td>False</td>\n",
       "      <td>CC(CN1C[C@H](C)O[C@H](C)C1)Cc2ccc(cc2)C(C)(C)C</td>\n",
       "      <td>&lt;rdkit.Chem.rdchem.Mol object at 0x0000000013B...</td>\n",
       "    </tr>\n",
       "  </tbody>\n",
       "</table>\n",
       "</div>"
      ],
      "text/plain": [
       "        PesticideID          CAS            Name  Warning  \\\n",
       "1190  Pesticide1191   35554-44-0        imazalil    False   \n",
       "160    Pesticide161     107-18-6   allyl alcohol    False   \n",
       "1756  Pesticide1757  103782-08-7     allosamidin    False   \n",
       "1932  Pesticide1933  143807-66-3  chromafenozide    False   \n",
       "1494  Pesticide1495   67564-91-4   fenpropimorph    False   \n",
       "\n",
       "                                                 SMILES  \\\n",
       "1190                   Clc1ccc(C(Cn2ccnc2)OCC=C)c(Cl)c1   \n",
       "160                                               OCC=C   \n",
       "1756  CN(C)C1=N[C@@H]2[C@@H](O)[C@H](O[C@@H]3O[C@H](...   \n",
       "1932  Cc1cc(C)cc(c1)C(=O)N(NC(=O)c2ccc3OCCCc3c2C)C(C...   \n",
       "1494     CC(CN1C[C@H](C)O[C@H](C)C1)Cc2ccc(cc2)C(C)(C)C   \n",
       "\n",
       "                                                  ROMol  \n",
       "1190  <rdkit.Chem.rdchem.Mol object at 0x0000000013B...  \n",
       "160   <rdkit.Chem.rdchem.Mol object at 0x0000000013D...  \n",
       "1756  <rdkit.Chem.rdchem.Mol object at 0x0000000013B...  \n",
       "1932  <rdkit.Chem.rdchem.Mol object at 0x0000000013B...  \n",
       "1494  <rdkit.Chem.rdchem.Mol object at 0x0000000013B...  "
      ]
     },
     "execution_count": 17,
     "metadata": {},
     "output_type": "execute_result"
    }
   ],
   "source": [
    "df3.sample(5).head()"
   ]
  },
  {
   "cell_type": "markdown",
   "metadata": {},
   "source": [
    "### Save this dataset"
   ]
  },
  {
   "cell_type": "code",
   "execution_count": 18,
   "metadata": {},
   "outputs": [],
   "source": [
    "with open('pesticides.pickle', 'wb') as f:\n",
    "    pickle.dump(df3, f, pickle.HIGHEST_PROTOCOL)"
   ]
  },
  {
   "cell_type": "markdown",
   "metadata": {},
   "source": [
    "#### Reload dataset"
   ]
  },
  {
   "cell_type": "code",
   "execution_count": 2,
   "metadata": {},
   "outputs": [],
   "source": [
    "file = open('pesticides.pickle', 'rb')\n",
    "df3 = pickle.load(file)\n",
    "file.close()"
   ]
  },
  {
   "cell_type": "markdown",
   "metadata": {},
   "source": [
    "### Calculate Morgan fingerprints (radius = 2)"
   ]
  },
  {
   "cell_type": "code",
   "execution_count": 3,
   "metadata": {},
   "outputs": [],
   "source": [
    "fps = []\n",
    "for index, row in df3.iterrows():\n",
    "    fps.append(AllChem.GetMorganFingerprintAsBitVect(row['ROMol'], 2))"
   ]
  },
  {
   "cell_type": "code",
   "execution_count": 4,
   "metadata": {},
   "outputs": [],
   "source": [
    "# the list for the dataframe\n",
    "qu, ta, sim = [], [], []"
   ]
  },
  {
   "cell_type": "code",
   "execution_count": 5,
   "metadata": {},
   "outputs": [],
   "source": [
    "# compare all fp pairwise without duplicates\n",
    "for n in range(len(fps)-1): # -1 so the last fp will not be used\n",
    "    s = DataStructs.BulkTanimotoSimilarity(fps[n], fps[n+1:]) # +1 compare with the next to the last fp\n",
    "#     print(pesticides.loc[n, 'Name'], pesticides.loc[n+1:, 'Name']) # comparison pairs\n",
    "#     # collect the SMILES and values\n",
    "    for m in range(len(s)):\n",
    "#         qu.append(pesticides.loc[n, 'Name'])\n",
    "#         ta.append(pesticides.loc[n+1:, 'Name'][m])\n",
    "        sim.append(s[m])\n",
    "# print()"
   ]
  },
  {
   "cell_type": "code",
   "execution_count": 6,
   "metadata": {},
   "outputs": [
    {
     "data": {
      "text/plain": [
       "0.018518518518518517"
      ]
     },
     "execution_count": 6,
     "metadata": {},
     "output_type": "execute_result"
    }
   ],
   "source": [
    "DataStructs.FingerprintSimilarity(fps[0], fps[1])"
   ]
  },
  {
   "cell_type": "code",
   "execution_count": 7,
   "metadata": {},
   "outputs": [
    {
     "data": {
      "text/plain": [
       "0.018518518518518517"
      ]
     },
     "execution_count": 7,
     "metadata": {},
     "output_type": "execute_result"
    }
   ],
   "source": [
    "sim[0]"
   ]
  },
  {
   "cell_type": "code",
   "execution_count": 6,
   "metadata": {},
   "outputs": [],
   "source": [
    "# columns = list(df3['Name'])\n",
    "sim_matrix = pd.DataFrame()"
   ]
  },
  {
   "cell_type": "code",
   "execution_count": 7,
   "metadata": {},
   "outputs": [
    {
     "name": "stdout",
     "output_type": "stream",
     "text": [
      "0\n",
      "5000\n",
      "10000\n",
      "15000\n",
      "20000\n",
      "25000\n",
      "30000\n",
      "35000\n",
      "40000\n",
      "45000\n",
      "50000\n",
      "55000\n",
      "60000\n",
      "65000\n",
      "70000\n",
      "75000\n",
      "80000\n",
      "85000\n",
      "90000\n",
      "95000\n",
      "100000\n",
      "105000\n",
      "110000\n",
      "115000\n",
      "120000\n",
      "125000\n",
      "130000\n",
      "135000\n",
      "140000\n",
      "145000\n",
      "150000\n",
      "155000\n",
      "160000\n",
      "165000\n",
      "170000\n",
      "175000\n",
      "180000\n",
      "185000\n",
      "190000\n",
      "195000\n",
      "200000\n",
      "205000\n",
      "210000\n",
      "215000\n",
      "220000\n",
      "225000\n",
      "230000\n",
      "235000\n",
      "240000\n",
      "245000\n",
      "250000\n",
      "255000\n",
      "260000\n",
      "265000\n",
      "270000\n",
      "275000\n",
      "280000\n",
      "285000\n",
      "290000\n",
      "295000\n",
      "300000\n",
      "305000\n",
      "310000\n",
      "315000\n",
      "320000\n",
      "325000\n",
      "330000\n",
      "335000\n",
      "340000\n",
      "345000\n",
      "350000\n",
      "355000\n",
      "360000\n",
      "365000\n",
      "370000\n",
      "375000\n",
      "380000\n",
      "385000\n",
      "390000\n",
      "395000\n",
      "400000\n",
      "405000\n",
      "410000\n",
      "415000\n",
      "420000\n",
      "425000\n",
      "430000\n",
      "435000\n",
      "440000\n",
      "445000\n",
      "450000\n",
      "455000\n",
      "460000\n",
      "465000\n",
      "470000\n",
      "475000\n",
      "480000\n",
      "485000\n",
      "490000\n",
      "495000\n",
      "500000\n",
      "505000\n",
      "510000\n",
      "515000\n",
      "520000\n",
      "525000\n",
      "530000\n",
      "535000\n",
      "540000\n",
      "545000\n",
      "550000\n",
      "555000\n",
      "560000\n",
      "565000\n",
      "570000\n",
      "575000\n",
      "580000\n",
      "585000\n",
      "590000\n",
      "595000\n",
      "600000\n",
      "605000\n",
      "610000\n",
      "615000\n",
      "620000\n",
      "625000\n",
      "630000\n",
      "635000\n",
      "640000\n",
      "645000\n",
      "650000\n",
      "655000\n",
      "660000\n",
      "665000\n",
      "670000\n",
      "675000\n",
      "680000\n",
      "685000\n",
      "690000\n",
      "695000\n",
      "700000\n",
      "705000\n",
      "710000\n",
      "715000\n",
      "720000\n",
      "725000\n",
      "730000\n",
      "735000\n",
      "740000\n",
      "745000\n",
      "750000\n",
      "755000\n",
      "760000\n",
      "765000\n",
      "770000\n",
      "775000\n",
      "780000\n",
      "785000\n",
      "790000\n",
      "795000\n",
      "800000\n",
      "805000\n",
      "810000\n",
      "815000\n",
      "820000\n",
      "825000\n",
      "830000\n",
      "835000\n",
      "840000\n",
      "845000\n",
      "850000\n",
      "855000\n",
      "860000\n",
      "865000\n",
      "870000\n",
      "875000\n",
      "880000\n",
      "885000\n",
      "890000\n",
      "895000\n",
      "900000\n",
      "905000\n",
      "910000\n",
      "915000\n",
      "920000\n",
      "925000\n",
      "930000\n",
      "935000\n",
      "940000\n",
      "945000\n",
      "950000\n",
      "955000\n",
      "960000\n",
      "965000\n",
      "970000\n",
      "975000\n",
      "980000\n",
      "985000\n",
      "990000\n",
      "995000\n",
      "1000000\n",
      "1005000\n",
      "1010000\n",
      "1015000\n",
      "1020000\n",
      "1025000\n",
      "1030000\n",
      "1035000\n",
      "1040000\n",
      "1045000\n",
      "1050000\n",
      "1055000\n",
      "1060000\n",
      "1065000\n",
      "1070000\n",
      "1075000\n",
      "1080000\n",
      "1085000\n",
      "1090000\n",
      "1095000\n",
      "1100000\n",
      "1105000\n",
      "1110000\n",
      "1115000\n",
      "1120000\n",
      "1125000\n",
      "1130000\n",
      "1135000\n",
      "1140000\n",
      "1145000\n",
      "1150000\n",
      "1155000\n",
      "1160000\n",
      "1165000\n",
      "1170000\n",
      "1175000\n",
      "1180000\n",
      "1185000\n",
      "1190000\n",
      "1195000\n",
      "1200000\n",
      "1205000\n",
      "1210000\n",
      "1215000\n",
      "1220000\n",
      "1225000\n",
      "1230000\n",
      "1235000\n",
      "1240000\n",
      "1245000\n",
      "1250000\n",
      "1255000\n",
      "1260000\n",
      "1265000\n",
      "1270000\n",
      "1275000\n",
      "1280000\n",
      "1285000\n",
      "1290000\n",
      "1295000\n",
      "1300000\n",
      "1305000\n",
      "1310000\n",
      "1315000\n",
      "1320000\n",
      "1325000\n",
      "1330000\n",
      "1335000\n",
      "1340000\n",
      "1345000\n",
      "1350000\n",
      "1355000\n",
      "1360000\n",
      "1365000\n",
      "1370000\n",
      "1375000\n",
      "1380000\n",
      "1385000\n",
      "1390000\n",
      "1395000\n",
      "1400000\n",
      "1405000\n",
      "1410000\n",
      "1415000\n",
      "1420000\n",
      "1425000\n",
      "1430000\n",
      "1435000\n",
      "1440000\n",
      "1445000\n",
      "1450000\n",
      "1455000\n",
      "1460000\n",
      "1465000\n",
      "1470000\n",
      "1475000\n",
      "1480000\n",
      "1485000\n",
      "1490000\n",
      "1495000\n",
      "1500000\n",
      "1505000\n",
      "1510000\n",
      "1515000\n",
      "1520000\n",
      "1525000\n",
      "1530000\n",
      "1535000\n",
      "1540000\n",
      "1545000\n",
      "1550000\n",
      "1555000\n",
      "1560000\n",
      "1565000\n",
      "1570000\n",
      "1575000\n",
      "1580000\n",
      "1585000\n",
      "1590000\n",
      "1595000\n",
      "1600000\n",
      "1605000\n",
      "1610000\n",
      "1615000\n",
      "1620000\n",
      "1625000\n",
      "1630000\n",
      "1635000\n",
      "1640000\n",
      "1645000\n",
      "1650000\n",
      "1655000\n",
      "1660000\n",
      "1665000\n",
      "1670000\n",
      "1675000\n",
      "1680000\n",
      "1685000\n",
      "1690000\n",
      "1695000\n",
      "1700000\n",
      "1705000\n",
      "1710000\n",
      "1715000\n",
      "1720000\n",
      "1725000\n",
      "1730000\n",
      "1735000\n",
      "1740000\n",
      "1745000\n",
      "1750000\n",
      "1755000\n",
      "1760000\n",
      "1765000\n",
      "1770000\n",
      "1775000\n",
      "1780000\n",
      "1785000\n",
      "1790000\n",
      "1795000\n",
      "1800000\n",
      "1805000\n",
      "1810000\n",
      "1815000\n",
      "1820000\n",
      "1825000\n",
      "1830000\n",
      "1835000\n",
      "1840000\n",
      "1845000\n",
      "1850000\n",
      "1855000\n",
      "1860000\n",
      "1865000\n",
      "1870000\n",
      "1875000\n",
      "1880000\n",
      "1885000\n",
      "1890000\n",
      "1895000\n",
      "1900000\n",
      "1905000\n",
      "1910000\n",
      "1915000\n",
      "1920000\n",
      "1925000\n",
      "1930000\n",
      "1935000\n",
      "1940000\n",
      "1945000\n",
      "1950000\n",
      "1955000\n",
      "1960000\n",
      "1965000\n",
      "1970000\n",
      "1975000\n",
      "1980000\n",
      "1985000\n",
      "1990000\n",
      "1995000\n",
      "2000000\n",
      "2005000\n",
      "2010000\n",
      "2015000\n",
      "2020000\n",
      "2025000\n",
      "2030000\n",
      "2035000\n",
      "2040000\n",
      "2045000\n",
      "2050000\n",
      "2055000\n",
      "2060000\n",
      "2065000\n",
      "2070000\n",
      "2075000\n",
      "2080000\n",
      "2085000\n",
      "2090000\n",
      "2095000\n",
      "2100000\n",
      "2105000\n",
      "2110000\n",
      "2115000\n",
      "2120000\n",
      "2125000\n",
      "2130000\n",
      "2135000\n",
      "2140000\n",
      "2145000\n",
      "2150000\n",
      "2155000\n",
      "2160000\n",
      "2165000\n",
      "2170000\n",
      "2175000\n",
      "2180000\n",
      "2185000\n",
      "2190000\n",
      "2195000\n",
      "2200000\n",
      "2205000\n",
      "2210000\n",
      "2215000\n",
      "2220000\n",
      "2225000\n",
      "2230000\n",
      "2235000\n",
      "2240000\n",
      "2245000\n",
      "2250000\n",
      "2255000\n",
      "2260000\n",
      "2265000\n",
      "2267385\n",
      "754.0215044021606\n"
     ]
    }
   ],
   "source": [
    "t0 = time.time()\n",
    "\n",
    "q = 0\n",
    "for k in range(0, len(fps)):\n",
    "    sim_matrix.loc[k, k] = 1\n",
    "for i in range(0, (len(fps)-1)):\n",
    "    for j in range((i+1), len(fps)):\n",
    "        sim_matrix.loc[i, j] = sim[q]\n",
    "        sim_matrix.loc[j, i] = sim[q]\n",
    "        if q % 5000 == 0: print(q)\n",
    "        q = q + 1\n",
    "            \n",
    "print(q)\n",
    "\n",
    "t1 = time.time()\n",
    "elapsed = t1-t0\n",
    "print(elapsed)\n",
    "\n",
    "# q = 0\n",
    "# for k in range(0, 5):\n",
    "#     sim_matrix2.loc[k, k] = 1\n",
    "# for i in range(0, (5-1)):\n",
    "#     for j in range((i+1), 5):\n",
    "#         sim_matrix2.loc[i, j] = sim[q]\n",
    "#         sim_matrix2.loc[j, i] = sim[q]\n",
    "#         if q % 1000 == 0: print(q)\n",
    "#         q = q + 1\n",
    "            \n",
    "# print(q)"
   ]
  },
  {
   "cell_type": "code",
   "execution_count": 9,
   "metadata": {},
   "outputs": [],
   "source": [
    "with open('pesticidesSimilarityMatrix02.pickle', 'wb') as f:\n",
    "    pickle.dump(sim_matrix, f, pickle.HIGHEST_PROTOCOL)"
   ]
  },
  {
   "cell_type": "code",
   "execution_count": 61,
   "metadata": {},
   "outputs": [
    {
     "data": {
      "text/plain": [
       "0.14423076923076922"
      ]
     },
     "execution_count": 61,
     "metadata": {},
     "output_type": "execute_result"
    }
   ],
   "source": [
    "sim[2267384]"
   ]
  },
  {
   "cell_type": "code",
   "execution_count": 15,
   "metadata": {},
   "outputs": [
    {
     "data": {
      "text/plain": [
       "2130"
      ]
     },
     "execution_count": 15,
     "metadata": {},
     "output_type": "execute_result"
    }
   ],
   "source": [
    "len(fps)"
   ]
  },
  {
   "cell_type": "code",
   "execution_count": 34,
   "metadata": {},
   "outputs": [],
   "source": [
    "columns = list(df3['Name'])"
   ]
  },
  {
   "cell_type": "code",
   "execution_count": 41,
   "metadata": {},
   "outputs": [],
   "source": [
    "sim_matrix = pd.DataFrame(columns = columns)"
   ]
  },
  {
   "cell_type": "code",
   "execution_count": null,
   "metadata": {},
   "outputs": [],
   "source": []
  },
  {
   "cell_type": "code",
   "execution_count": 34,
   "metadata": {},
   "outputs": [
    {
     "name": "stderr",
     "output_type": "stream",
     "text": [
      "C:\\Users\\us16120\\Anaconda3\\lib\\site-packages\\ipykernel_launcher.py:1: FutureWarning: The signature of `Series.to_csv` was aligned to that of `DataFrame.to_csv`, and argument 'header' will change its default value from False to True: please pass an explicit value to suppress this warning.\n",
      "  \"\"\"Entry point for launching an IPython kernel.\n"
     ]
    }
   ],
   "source": [
    "df3['Name'].to_csv('names.csv')"
   ]
  },
  {
   "cell_type": "markdown",
   "metadata": {},
   "source": [
    "### Generate a distance matrix, based on the Tanimoto similarity calculated between each pair of molecules"
   ]
  },
  {
   "cell_type": "code",
   "execution_count": 49,
   "metadata": {},
   "outputs": [],
   "source": [
    "# generate distance matrix\n",
    "dist_matrix = []\n",
    "num_fps = len(fps)\n",
    "for i in range(1, num_fps):\n",
    "    similarities = DataStructs.BulkTanimotoSimilarity(fps[i],fps[:i])\n",
    "    dist_matrix.extend([1-x for x in similarities])"
   ]
  },
  {
   "cell_type": "code",
   "execution_count": 69,
   "metadata": {},
   "outputs": [
    {
     "data": {
      "text/plain": [
       "2267385"
      ]
     },
     "execution_count": 69,
     "metadata": {},
     "output_type": "execute_result"
    }
   ],
   "source": [
    "len(dist_matrix)"
   ]
  },
  {
   "cell_type": "code",
   "execution_count": 75,
   "metadata": {},
   "outputs": [],
   "source": [
    "def utri2mat(utri):\n",
    "    n = int(-1 + np.sqrt(1 + 8*len(utri))) // 2\n",
    "    iu1 = np.triu_indices(n)\n",
    "    ret = np.empty((n, n))\n",
    "    ret[iu1] = utri\n",
    "    ret.T[iu1] = utri\n",
    "    return ret"
   ]
  },
  {
   "cell_type": "code",
   "execution_count": 76,
   "metadata": {},
   "outputs": [],
   "source": [
    "simMatrix = utri2mat(dist_matrix)"
   ]
  },
  {
   "cell_type": "code",
   "execution_count": 77,
   "metadata": {},
   "outputs": [
    {
     "data": {
      "text/plain": [
       "(2129, 2129)"
      ]
     },
     "execution_count": 77,
     "metadata": {},
     "output_type": "execute_result"
    }
   ],
   "source": [
    "simMatrix.shape"
   ]
  },
  {
   "cell_type": "code",
   "execution_count": 82,
   "metadata": {},
   "outputs": [],
   "source": [
    "similarity = pd.DataFrame(simMatrix)"
   ]
  },
  {
   "cell_type": "code",
   "execution_count": 83,
   "metadata": {},
   "outputs": [],
   "source": [
    "similarity.to_csv('PesticideSimilarityMatrix.csv')"
   ]
  },
  {
   "cell_type": "code",
   "execution_count": null,
   "metadata": {},
   "outputs": [],
   "source": []
  }
 ],
 "metadata": {
  "kernelspec": {
   "display_name": "Python 3",
   "language": "python",
   "name": "python3"
  },
  "language_info": {
   "codemirror_mode": {
    "name": "ipython",
    "version": 3
   },
   "file_extension": ".py",
   "mimetype": "text/x-python",
   "name": "python",
   "nbconvert_exporter": "python",
   "pygments_lexer": "ipython3",
   "version": "3.7.3"
  },
  "toc": {
   "base_numbering": 1,
   "nav_menu": {},
   "number_sections": true,
   "sideBar": false,
   "skip_h1_title": false,
   "title_cell": "Table of Contents",
   "title_sidebar": "Contents",
   "toc_cell": false,
   "toc_position": {},
   "toc_section_display": true,
   "toc_window_display": false
  }
 },
 "nbformat": 4,
 "nbformat_minor": 2
}
